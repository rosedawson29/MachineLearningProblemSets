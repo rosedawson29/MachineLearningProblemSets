{
  "nbformat": 4,
  "nbformat_minor": 0,
  "metadata": {
    "kernelspec": {
      "display_name": "Python 3",
      "language": "python",
      "name": "python3"
    },
    "language_info": {
      "codemirror_mode": {
        "name": "ipython",
        "version": 3
      },
      "file_extension": ".py",
      "mimetype": "text/x-python",
      "name": "python",
      "nbconvert_exporter": "python",
      "pygments_lexer": "ipython3",
      "version": "3.7.3"
    },
    "colab": {
      "name": "Team 4_TedTalks.ipynb",
      "provenance": []
    }
  },
  "cells": [
    {
      "cell_type": "code",
      "metadata": {
        "id": "QsrpCWx_bN5H"
      },
      "source": [
        "import matplotlib.pyplot as plt\n",
        "%matplotlib inline"
      ],
      "execution_count": 10,
      "outputs": []
    },
    {
      "cell_type": "code",
      "metadata": {
        "id": "narM6o-hbN5J"
      },
      "source": [
        "ted = pd.read_csv('/ted.csv')"
      ],
      "execution_count": 11,
      "outputs": []
    },
    {
      "cell_type": "code",
      "metadata": {
        "scrolled": false,
        "id": "Xr8g9reabN5L",
        "outputId": "c1aec6ac-e371-4d2f-9a16-a623a14e4840",
        "colab": {
          "base_uri": "https://localhost:8080/",
          "height": 598
        }
      },
      "source": [
        "ted.head()"
      ],
      "execution_count": 12,
      "outputs": [
        {
          "output_type": "execute_result",
          "data": {
            "text/html": [
              "<div>\n",
              "<style scoped>\n",
              "    .dataframe tbody tr th:only-of-type {\n",
              "        vertical-align: middle;\n",
              "    }\n",
              "\n",
              "    .dataframe tbody tr th {\n",
              "        vertical-align: top;\n",
              "    }\n",
              "\n",
              "    .dataframe thead th {\n",
              "        text-align: right;\n",
              "    }\n",
              "</style>\n",
              "<table border=\"1\" class=\"dataframe\">\n",
              "  <thead>\n",
              "    <tr style=\"text-align: right;\">\n",
              "      <th></th>\n",
              "      <th>comments</th>\n",
              "      <th>description</th>\n",
              "      <th>duration</th>\n",
              "      <th>event</th>\n",
              "      <th>film_date</th>\n",
              "      <th>languages</th>\n",
              "      <th>main_speaker</th>\n",
              "      <th>name</th>\n",
              "      <th>num_speaker</th>\n",
              "      <th>published_date</th>\n",
              "      <th>ratings</th>\n",
              "      <th>related_talks</th>\n",
              "      <th>speaker_occupation</th>\n",
              "      <th>tags</th>\n",
              "      <th>title</th>\n",
              "      <th>url</th>\n",
              "      <th>views</th>\n",
              "    </tr>\n",
              "  </thead>\n",
              "  <tbody>\n",
              "    <tr>\n",
              "      <th>0</th>\n",
              "      <td>4553</td>\n",
              "      <td>Sir Ken Robinson makes an entertaining and pro...</td>\n",
              "      <td>1164</td>\n",
              "      <td>TED2006</td>\n",
              "      <td>1140825600</td>\n",
              "      <td>60</td>\n",
              "      <td>Ken Robinson</td>\n",
              "      <td>Ken Robinson: Do schools kill creativity?</td>\n",
              "      <td>1</td>\n",
              "      <td>1151367060</td>\n",
              "      <td>[{'id': 7, 'name': 'Funny', 'count': 19645}, {...</td>\n",
              "      <td>[{'id': 865, 'hero': 'https://pe.tedcdn.com/im...</td>\n",
              "      <td>Author/educator</td>\n",
              "      <td>['children', 'creativity', 'culture', 'dance',...</td>\n",
              "      <td>Do schools kill creativity?</td>\n",
              "      <td>https://www.ted.com/talks/ken_robinson_says_sc...</td>\n",
              "      <td>47227110</td>\n",
              "    </tr>\n",
              "    <tr>\n",
              "      <th>1</th>\n",
              "      <td>265</td>\n",
              "      <td>With the same humor and humanity he exuded in ...</td>\n",
              "      <td>977</td>\n",
              "      <td>TED2006</td>\n",
              "      <td>1140825600</td>\n",
              "      <td>43</td>\n",
              "      <td>Al Gore</td>\n",
              "      <td>Al Gore: Averting the climate crisis</td>\n",
              "      <td>1</td>\n",
              "      <td>1151367060</td>\n",
              "      <td>[{'id': 7, 'name': 'Funny', 'count': 544}, {'i...</td>\n",
              "      <td>[{'id': 243, 'hero': 'https://pe.tedcdn.com/im...</td>\n",
              "      <td>Climate advocate</td>\n",
              "      <td>['alternative energy', 'cars', 'climate change...</td>\n",
              "      <td>Averting the climate crisis</td>\n",
              "      <td>https://www.ted.com/talks/al_gore_on_averting_...</td>\n",
              "      <td>3200520</td>\n",
              "    </tr>\n",
              "    <tr>\n",
              "      <th>2</th>\n",
              "      <td>124</td>\n",
              "      <td>New York Times columnist David Pogue takes aim...</td>\n",
              "      <td>1286</td>\n",
              "      <td>TED2006</td>\n",
              "      <td>1140739200</td>\n",
              "      <td>26</td>\n",
              "      <td>David Pogue</td>\n",
              "      <td>David Pogue: Simplicity sells</td>\n",
              "      <td>1</td>\n",
              "      <td>1151367060</td>\n",
              "      <td>[{'id': 7, 'name': 'Funny', 'count': 964}, {'i...</td>\n",
              "      <td>[{'id': 1725, 'hero': 'https://pe.tedcdn.com/i...</td>\n",
              "      <td>Technology columnist</td>\n",
              "      <td>['computers', 'entertainment', 'interface desi...</td>\n",
              "      <td>Simplicity sells</td>\n",
              "      <td>https://www.ted.com/talks/david_pogue_says_sim...</td>\n",
              "      <td>1636292</td>\n",
              "    </tr>\n",
              "    <tr>\n",
              "      <th>3</th>\n",
              "      <td>200</td>\n",
              "      <td>In an emotionally charged talk, MacArthur-winn...</td>\n",
              "      <td>1116</td>\n",
              "      <td>TED2006</td>\n",
              "      <td>1140912000</td>\n",
              "      <td>35</td>\n",
              "      <td>Majora Carter</td>\n",
              "      <td>Majora Carter: Greening the ghetto</td>\n",
              "      <td>1</td>\n",
              "      <td>1151367060</td>\n",
              "      <td>[{'id': 3, 'name': 'Courageous', 'count': 760}...</td>\n",
              "      <td>[{'id': 1041, 'hero': 'https://pe.tedcdn.com/i...</td>\n",
              "      <td>Activist for environmental justice</td>\n",
              "      <td>['MacArthur grant', 'activism', 'business', 'c...</td>\n",
              "      <td>Greening the ghetto</td>\n",
              "      <td>https://www.ted.com/talks/majora_carter_s_tale...</td>\n",
              "      <td>1697550</td>\n",
              "    </tr>\n",
              "    <tr>\n",
              "      <th>4</th>\n",
              "      <td>593</td>\n",
              "      <td>You've never seen data presented like this. Wi...</td>\n",
              "      <td>1190</td>\n",
              "      <td>TED2006</td>\n",
              "      <td>1140566400</td>\n",
              "      <td>48</td>\n",
              "      <td>Hans Rosling</td>\n",
              "      <td>Hans Rosling: The best stats you've ever seen</td>\n",
              "      <td>1</td>\n",
              "      <td>1151440680</td>\n",
              "      <td>[{'id': 9, 'name': 'Ingenious', 'count': 3202}...</td>\n",
              "      <td>[{'id': 2056, 'hero': 'https://pe.tedcdn.com/i...</td>\n",
              "      <td>Global health expert; data visionary</td>\n",
              "      <td>['Africa', 'Asia', 'Google', 'demo', 'economic...</td>\n",
              "      <td>The best stats you've ever seen</td>\n",
              "      <td>https://www.ted.com/talks/hans_rosling_shows_t...</td>\n",
              "      <td>12005869</td>\n",
              "    </tr>\n",
              "  </tbody>\n",
              "</table>\n",
              "</div>"
            ],
            "text/plain": [
              "   comments  ...     views\n",
              "0      4553  ...  47227110\n",
              "1       265  ...   3200520\n",
              "2       124  ...   1636292\n",
              "3       200  ...   1697550\n",
              "4       593  ...  12005869\n",
              "\n",
              "[5 rows x 17 columns]"
            ]
          },
          "metadata": {
            "tags": []
          },
          "execution_count": 12
        }
      ]
    },
    {
      "cell_type": "code",
      "metadata": {
        "id": "JFvi5G0IbN5N",
        "outputId": "b57cfb3c-4e18-4a1a-e7c7-f1f8ed164005",
        "colab": {
          "base_uri": "https://localhost:8080/",
          "height": 34
        }
      },
      "source": [
        "ted.shape"
      ],
      "execution_count": 13,
      "outputs": [
        {
          "output_type": "execute_result",
          "data": {
            "text/plain": [
              "(2550, 17)"
            ]
          },
          "metadata": {
            "tags": []
          },
          "execution_count": 13
        }
      ]
    },
    {
      "cell_type": "code",
      "metadata": {
        "id": "fC6AwFDAbN5P",
        "outputId": "99825431-7b08-4650-b742-abd3d6e507dc",
        "colab": {
          "base_uri": "https://localhost:8080/",
          "height": 323
        }
      },
      "source": [
        "ted.dtypes"
      ],
      "execution_count": 14,
      "outputs": [
        {
          "output_type": "execute_result",
          "data": {
            "text/plain": [
              "comments               int64\n",
              "description           object\n",
              "duration               int64\n",
              "event                 object\n",
              "film_date              int64\n",
              "languages              int64\n",
              "main_speaker          object\n",
              "name                  object\n",
              "num_speaker            int64\n",
              "published_date         int64\n",
              "ratings               object\n",
              "related_talks         object\n",
              "speaker_occupation    object\n",
              "tags                  object\n",
              "title                 object\n",
              "url                   object\n",
              "views                  int64\n",
              "dtype: object"
            ]
          },
          "metadata": {
            "tags": []
          },
          "execution_count": 14
        }
      ]
    },
    {
      "cell_type": "code",
      "metadata": {
        "id": "pFlU6PFDbN5S",
        "outputId": "4f582cdf-d3d0-4cc4-8a10-6d3a0997803c",
        "colab": {
          "base_uri": "https://localhost:8080/",
          "height": 323
        }
      },
      "source": [
        "# count the number of missing values in each column\n",
        "ted.isna().sum()"
      ],
      "execution_count": 15,
      "outputs": [
        {
          "output_type": "execute_result",
          "data": {
            "text/plain": [
              "comments              0\n",
              "description           0\n",
              "duration              0\n",
              "event                 0\n",
              "film_date             0\n",
              "languages             0\n",
              "main_speaker          0\n",
              "name                  0\n",
              "num_speaker           0\n",
              "published_date        0\n",
              "ratings               0\n",
              "related_talks         0\n",
              "speaker_occupation    6\n",
              "tags                  0\n",
              "title                 0\n",
              "url                   0\n",
              "views                 0\n",
              "dtype: int64"
            ]
          },
          "metadata": {
            "tags": []
          },
          "execution_count": 15
        }
      ]
    },
    {
      "cell_type": "markdown",
      "metadata": {
        "id": "U0TVBmfKbN5V"
      },
      "source": [
        "## 2. Which talks provoke the most online discussion?"
      ]
    },
    {
      "cell_type": "code",
      "metadata": {
        "id": "QMByXEv3bN5V",
        "outputId": "243df116-5cea-4ed8-8ee7-ee603aac9fbe",
        "colab": {
          "base_uri": "https://localhost:8080/",
          "height": 530
        }
      },
      "source": [
        "ted.sort_values('comments').tail()"
      ],
      "execution_count": 16,
      "outputs": [
        {
          "output_type": "execute_result",
          "data": {
            "text/html": [
              "<div>\n",
              "<style scoped>\n",
              "    .dataframe tbody tr th:only-of-type {\n",
              "        vertical-align: middle;\n",
              "    }\n",
              "\n",
              "    .dataframe tbody tr th {\n",
              "        vertical-align: top;\n",
              "    }\n",
              "\n",
              "    .dataframe thead th {\n",
              "        text-align: right;\n",
              "    }\n",
              "</style>\n",
              "<table border=\"1\" class=\"dataframe\">\n",
              "  <thead>\n",
              "    <tr style=\"text-align: right;\">\n",
              "      <th></th>\n",
              "      <th>comments</th>\n",
              "      <th>description</th>\n",
              "      <th>duration</th>\n",
              "      <th>event</th>\n",
              "      <th>film_date</th>\n",
              "      <th>languages</th>\n",
              "      <th>main_speaker</th>\n",
              "      <th>name</th>\n",
              "      <th>num_speaker</th>\n",
              "      <th>published_date</th>\n",
              "      <th>ratings</th>\n",
              "      <th>related_talks</th>\n",
              "      <th>speaker_occupation</th>\n",
              "      <th>tags</th>\n",
              "      <th>title</th>\n",
              "      <th>url</th>\n",
              "      <th>views</th>\n",
              "    </tr>\n",
              "  </thead>\n",
              "  <tbody>\n",
              "    <tr>\n",
              "      <th>1787</th>\n",
              "      <td>2673</td>\n",
              "      <td>Our consciousness is a fundamental aspect of o...</td>\n",
              "      <td>1117</td>\n",
              "      <td>TED2014</td>\n",
              "      <td>1395100800</td>\n",
              "      <td>33</td>\n",
              "      <td>David Chalmers</td>\n",
              "      <td>David Chalmers: How do you explain consciousness?</td>\n",
              "      <td>1</td>\n",
              "      <td>1405350484</td>\n",
              "      <td>[{'id': 25, 'name': 'OK', 'count': 280}, {'id'...</td>\n",
              "      <td>[{'id': 1308, 'hero': 'https://pe.tedcdn.com/i...</td>\n",
              "      <td>Philosopher</td>\n",
              "      <td>['brain', 'consciousness', 'neuroscience', 'ph...</td>\n",
              "      <td>How do you explain consciousness?</td>\n",
              "      <td>https://www.ted.com/talks/david_chalmers_how_d...</td>\n",
              "      <td>2162764</td>\n",
              "    </tr>\n",
              "    <tr>\n",
              "      <th>201</th>\n",
              "      <td>2877</td>\n",
              "      <td>Jill Bolte Taylor got a research opportunity f...</td>\n",
              "      <td>1099</td>\n",
              "      <td>TED2008</td>\n",
              "      <td>1204070400</td>\n",
              "      <td>49</td>\n",
              "      <td>Jill Bolte Taylor</td>\n",
              "      <td>Jill Bolte Taylor: My stroke of insight</td>\n",
              "      <td>1</td>\n",
              "      <td>1205284200</td>\n",
              "      <td>[{'id': 22, 'name': 'Fascinating', 'count': 14...</td>\n",
              "      <td>[{'id': 184, 'hero': 'https://pe.tedcdn.com/im...</td>\n",
              "      <td>Neuroanatomist</td>\n",
              "      <td>['biology', 'brain', 'consciousness', 'global ...</td>\n",
              "      <td>My stroke of insight</td>\n",
              "      <td>https://www.ted.com/talks/jill_bolte_taylor_s_...</td>\n",
              "      <td>21190883</td>\n",
              "    </tr>\n",
              "    <tr>\n",
              "      <th>644</th>\n",
              "      <td>3356</td>\n",
              "      <td>Questions of good and evil, right and wrong ar...</td>\n",
              "      <td>1386</td>\n",
              "      <td>TED2010</td>\n",
              "      <td>1265846400</td>\n",
              "      <td>39</td>\n",
              "      <td>Sam Harris</td>\n",
              "      <td>Sam Harris: Science can answer moral questions</td>\n",
              "      <td>1</td>\n",
              "      <td>1269249180</td>\n",
              "      <td>[{'id': 8, 'name': 'Informative', 'count': 923...</td>\n",
              "      <td>[{'id': 666, 'hero': 'https://pe.tedcdn.com/im...</td>\n",
              "      <td>Neuroscientist, philosopher</td>\n",
              "      <td>['culture', 'evolutionary psychology', 'global...</td>\n",
              "      <td>Science can answer moral questions</td>\n",
              "      <td>https://www.ted.com/talks/sam_harris_science_c...</td>\n",
              "      <td>3433437</td>\n",
              "    </tr>\n",
              "    <tr>\n",
              "      <th>0</th>\n",
              "      <td>4553</td>\n",
              "      <td>Sir Ken Robinson makes an entertaining and pro...</td>\n",
              "      <td>1164</td>\n",
              "      <td>TED2006</td>\n",
              "      <td>1140825600</td>\n",
              "      <td>60</td>\n",
              "      <td>Ken Robinson</td>\n",
              "      <td>Ken Robinson: Do schools kill creativity?</td>\n",
              "      <td>1</td>\n",
              "      <td>1151367060</td>\n",
              "      <td>[{'id': 7, 'name': 'Funny', 'count': 19645}, {...</td>\n",
              "      <td>[{'id': 865, 'hero': 'https://pe.tedcdn.com/im...</td>\n",
              "      <td>Author/educator</td>\n",
              "      <td>['children', 'creativity', 'culture', 'dance',...</td>\n",
              "      <td>Do schools kill creativity?</td>\n",
              "      <td>https://www.ted.com/talks/ken_robinson_says_sc...</td>\n",
              "      <td>47227110</td>\n",
              "    </tr>\n",
              "    <tr>\n",
              "      <th>96</th>\n",
              "      <td>6404</td>\n",
              "      <td>Richard Dawkins urges all atheists to openly s...</td>\n",
              "      <td>1750</td>\n",
              "      <td>TED2002</td>\n",
              "      <td>1012608000</td>\n",
              "      <td>42</td>\n",
              "      <td>Richard Dawkins</td>\n",
              "      <td>Richard Dawkins: Militant atheism</td>\n",
              "      <td>1</td>\n",
              "      <td>1176689220</td>\n",
              "      <td>[{'id': 3, 'name': 'Courageous', 'count': 3236...</td>\n",
              "      <td>[{'id': 86, 'hero': 'https://pe.tedcdn.com/ima...</td>\n",
              "      <td>Evolutionary biologist</td>\n",
              "      <td>['God', 'atheism', 'culture', 'religion', 'sci...</td>\n",
              "      <td>Militant atheism</td>\n",
              "      <td>https://www.ted.com/talks/richard_dawkins_on_m...</td>\n",
              "      <td>4374792</td>\n",
              "    </tr>\n",
              "  </tbody>\n",
              "</table>\n",
              "</div>"
            ],
            "text/plain": [
              "      comments  ...     views\n",
              "1787      2673  ...   2162764\n",
              "201       2877  ...  21190883\n",
              "644       3356  ...   3433437\n",
              "0         4553  ...  47227110\n",
              "96        6404  ...   4374792\n",
              "\n",
              "[5 rows x 17 columns]"
            ]
          },
          "metadata": {
            "tags": []
          },
          "execution_count": 16
        }
      ]
    },
    {
      "cell_type": "code",
      "metadata": {
        "id": "sH7pJoyHbN5X"
      },
      "source": [
        "# correct for this bias by calculating the number of comments per view\n",
        "ted['comments_per_view'] = ted.comments / ted.views"
      ],
      "execution_count": 17,
      "outputs": []
    },
    {
      "cell_type": "code",
      "metadata": {
        "id": "WPi1lbshbN5Z",
        "outputId": "4f8bb3b7-0e7e-42ef-df00-fed9cabc5974",
        "colab": {
          "base_uri": "https://localhost:8080/",
          "height": 598
        }
      },
      "source": [
        "ted.sort_values('comments_per_view').tail()"
      ],
      "execution_count": 18,
      "outputs": [
        {
          "output_type": "execute_result",
          "data": {
            "text/html": [
              "<div>\n",
              "<style scoped>\n",
              "    .dataframe tbody tr th:only-of-type {\n",
              "        vertical-align: middle;\n",
              "    }\n",
              "\n",
              "    .dataframe tbody tr th {\n",
              "        vertical-align: top;\n",
              "    }\n",
              "\n",
              "    .dataframe thead th {\n",
              "        text-align: right;\n",
              "    }\n",
              "</style>\n",
              "<table border=\"1\" class=\"dataframe\">\n",
              "  <thead>\n",
              "    <tr style=\"text-align: right;\">\n",
              "      <th></th>\n",
              "      <th>comments</th>\n",
              "      <th>description</th>\n",
              "      <th>duration</th>\n",
              "      <th>event</th>\n",
              "      <th>film_date</th>\n",
              "      <th>languages</th>\n",
              "      <th>main_speaker</th>\n",
              "      <th>name</th>\n",
              "      <th>num_speaker</th>\n",
              "      <th>published_date</th>\n",
              "      <th>ratings</th>\n",
              "      <th>related_talks</th>\n",
              "      <th>speaker_occupation</th>\n",
              "      <th>tags</th>\n",
              "      <th>title</th>\n",
              "      <th>url</th>\n",
              "      <th>views</th>\n",
              "      <th>comments_per_view</th>\n",
              "    </tr>\n",
              "  </thead>\n",
              "  <tbody>\n",
              "    <tr>\n",
              "      <th>954</th>\n",
              "      <td>2492</td>\n",
              "      <td>Janet Echelman found her true voice as an arti...</td>\n",
              "      <td>566</td>\n",
              "      <td>TED2011</td>\n",
              "      <td>1299110400</td>\n",
              "      <td>35</td>\n",
              "      <td>Janet Echelman</td>\n",
              "      <td>Janet Echelman: Taking imagination seriously</td>\n",
              "      <td>1</td>\n",
              "      <td>1307489760</td>\n",
              "      <td>[{'id': 23, 'name': 'Jaw-dropping', 'count': 3...</td>\n",
              "      <td>[{'id': 453, 'hero': 'https://pe.tedcdn.com/im...</td>\n",
              "      <td>Artist</td>\n",
              "      <td>['art', 'cities', 'culture', 'data', 'design',...</td>\n",
              "      <td>Taking imagination seriously</td>\n",
              "      <td>https://www.ted.com/talks/janet_echelman</td>\n",
              "      <td>1832930</td>\n",
              "      <td>0.001360</td>\n",
              "    </tr>\n",
              "    <tr>\n",
              "      <th>694</th>\n",
              "      <td>1502</td>\n",
              "      <td>Filmmaker Sharmeen Obaid-Chinoy takes on a ter...</td>\n",
              "      <td>489</td>\n",
              "      <td>TED2010</td>\n",
              "      <td>1265760000</td>\n",
              "      <td>32</td>\n",
              "      <td>Sharmeen Obaid-Chinoy</td>\n",
              "      <td>Sharmeen Obaid-Chinoy: Inside a school for sui...</td>\n",
              "      <td>1</td>\n",
              "      <td>1274865960</td>\n",
              "      <td>[{'id': 23, 'name': 'Jaw-dropping', 'count': 3...</td>\n",
              "      <td>[{'id': 171, 'hero': 'https://pe.tedcdn.com/im...</td>\n",
              "      <td>Filmmaker</td>\n",
              "      <td>['TED Fellows', 'children', 'culture', 'film',...</td>\n",
              "      <td>Inside a school for suicide bombers</td>\n",
              "      <td>https://www.ted.com/talks/sharmeen_obaid_chino...</td>\n",
              "      <td>1057238</td>\n",
              "      <td>0.001421</td>\n",
              "    </tr>\n",
              "    <tr>\n",
              "      <th>96</th>\n",
              "      <td>6404</td>\n",
              "      <td>Richard Dawkins urges all atheists to openly s...</td>\n",
              "      <td>1750</td>\n",
              "      <td>TED2002</td>\n",
              "      <td>1012608000</td>\n",
              "      <td>42</td>\n",
              "      <td>Richard Dawkins</td>\n",
              "      <td>Richard Dawkins: Militant atheism</td>\n",
              "      <td>1</td>\n",
              "      <td>1176689220</td>\n",
              "      <td>[{'id': 3, 'name': 'Courageous', 'count': 3236...</td>\n",
              "      <td>[{'id': 86, 'hero': 'https://pe.tedcdn.com/ima...</td>\n",
              "      <td>Evolutionary biologist</td>\n",
              "      <td>['God', 'atheism', 'culture', 'religion', 'sci...</td>\n",
              "      <td>Militant atheism</td>\n",
              "      <td>https://www.ted.com/talks/richard_dawkins_on_m...</td>\n",
              "      <td>4374792</td>\n",
              "      <td>0.001464</td>\n",
              "    </tr>\n",
              "    <tr>\n",
              "      <th>803</th>\n",
              "      <td>834</td>\n",
              "      <td>David Bismark demos a new system for voting th...</td>\n",
              "      <td>422</td>\n",
              "      <td>TEDGlobal 2010</td>\n",
              "      <td>1279065600</td>\n",
              "      <td>36</td>\n",
              "      <td>David Bismark</td>\n",
              "      <td>David Bismark: E-voting without fraud</td>\n",
              "      <td>1</td>\n",
              "      <td>1288685640</td>\n",
              "      <td>[{'id': 25, 'name': 'OK', 'count': 111}, {'id'...</td>\n",
              "      <td>[{'id': 803, 'hero': 'https://pe.tedcdn.com/im...</td>\n",
              "      <td>Voting system designer</td>\n",
              "      <td>['culture', 'democracy', 'design', 'global iss...</td>\n",
              "      <td>E-voting without fraud</td>\n",
              "      <td>https://www.ted.com/talks/david_bismark_e_voti...</td>\n",
              "      <td>543551</td>\n",
              "      <td>0.001534</td>\n",
              "    </tr>\n",
              "    <tr>\n",
              "      <th>744</th>\n",
              "      <td>649</td>\n",
              "      <td>Hours before New York lawmakers rejected a key...</td>\n",
              "      <td>453</td>\n",
              "      <td>New York State Senate</td>\n",
              "      <td>1259712000</td>\n",
              "      <td>0</td>\n",
              "      <td>Diane J. Savino</td>\n",
              "      <td>Diane J. Savino: The case for same-sex marriage</td>\n",
              "      <td>1</td>\n",
              "      <td>1282062180</td>\n",
              "      <td>[{'id': 25, 'name': 'OK', 'count': 100}, {'id'...</td>\n",
              "      <td>[{'id': 217, 'hero': 'https://pe.tedcdn.com/im...</td>\n",
              "      <td>Senator</td>\n",
              "      <td>['God', 'LGBT', 'culture', 'government', 'law'...</td>\n",
              "      <td>The case for same-sex marriage</td>\n",
              "      <td>https://www.ted.com/talks/diane_j_savino_the_c...</td>\n",
              "      <td>292395</td>\n",
              "      <td>0.002220</td>\n",
              "    </tr>\n",
              "  </tbody>\n",
              "</table>\n",
              "</div>"
            ],
            "text/plain": [
              "     comments  ... comments_per_view\n",
              "954      2492  ...          0.001360\n",
              "694      1502  ...          0.001421\n",
              "96       6404  ...          0.001464\n",
              "803       834  ...          0.001534\n",
              "744       649  ...          0.002220\n",
              "\n",
              "[5 rows x 18 columns]"
            ]
          },
          "metadata": {
            "tags": []
          },
          "execution_count": 18
        }
      ]
    },
    {
      "cell_type": "code",
      "metadata": {
        "id": "UjmFhoGabN5b"
      },
      "source": [
        "ted['views_per_comment'] = ted.views / ted.comments"
      ],
      "execution_count": 19,
      "outputs": []
    },
    {
      "cell_type": "code",
      "metadata": {
        "id": "5rpyMicCbN5e",
        "outputId": "11064187-f6ea-43e8-b3ba-9cf4c252b6d0",
        "colab": {
          "base_uri": "https://localhost:8080/",
          "height": 598
        }
      },
      "source": [
        "# 1 out of every 450 people leave a comment\n",
        "ted.sort_values('views_per_comment').head()"
      ],
      "execution_count": 20,
      "outputs": [
        {
          "output_type": "execute_result",
          "data": {
            "text/html": [
              "<div>\n",
              "<style scoped>\n",
              "    .dataframe tbody tr th:only-of-type {\n",
              "        vertical-align: middle;\n",
              "    }\n",
              "\n",
              "    .dataframe tbody tr th {\n",
              "        vertical-align: top;\n",
              "    }\n",
              "\n",
              "    .dataframe thead th {\n",
              "        text-align: right;\n",
              "    }\n",
              "</style>\n",
              "<table border=\"1\" class=\"dataframe\">\n",
              "  <thead>\n",
              "    <tr style=\"text-align: right;\">\n",
              "      <th></th>\n",
              "      <th>comments</th>\n",
              "      <th>description</th>\n",
              "      <th>duration</th>\n",
              "      <th>event</th>\n",
              "      <th>film_date</th>\n",
              "      <th>languages</th>\n",
              "      <th>main_speaker</th>\n",
              "      <th>name</th>\n",
              "      <th>num_speaker</th>\n",
              "      <th>published_date</th>\n",
              "      <th>ratings</th>\n",
              "      <th>related_talks</th>\n",
              "      <th>speaker_occupation</th>\n",
              "      <th>tags</th>\n",
              "      <th>title</th>\n",
              "      <th>url</th>\n",
              "      <th>views</th>\n",
              "      <th>comments_per_view</th>\n",
              "      <th>views_per_comment</th>\n",
              "    </tr>\n",
              "  </thead>\n",
              "  <tbody>\n",
              "    <tr>\n",
              "      <th>744</th>\n",
              "      <td>649</td>\n",
              "      <td>Hours before New York lawmakers rejected a key...</td>\n",
              "      <td>453</td>\n",
              "      <td>New York State Senate</td>\n",
              "      <td>1259712000</td>\n",
              "      <td>0</td>\n",
              "      <td>Diane J. Savino</td>\n",
              "      <td>Diane J. Savino: The case for same-sex marriage</td>\n",
              "      <td>1</td>\n",
              "      <td>1282062180</td>\n",
              "      <td>[{'id': 25, 'name': 'OK', 'count': 100}, {'id'...</td>\n",
              "      <td>[{'id': 217, 'hero': 'https://pe.tedcdn.com/im...</td>\n",
              "      <td>Senator</td>\n",
              "      <td>['God', 'LGBT', 'culture', 'government', 'law'...</td>\n",
              "      <td>The case for same-sex marriage</td>\n",
              "      <td>https://www.ted.com/talks/diane_j_savino_the_c...</td>\n",
              "      <td>292395</td>\n",
              "      <td>0.002220</td>\n",
              "      <td>450.531587</td>\n",
              "    </tr>\n",
              "    <tr>\n",
              "      <th>803</th>\n",
              "      <td>834</td>\n",
              "      <td>David Bismark demos a new system for voting th...</td>\n",
              "      <td>422</td>\n",
              "      <td>TEDGlobal 2010</td>\n",
              "      <td>1279065600</td>\n",
              "      <td>36</td>\n",
              "      <td>David Bismark</td>\n",
              "      <td>David Bismark: E-voting without fraud</td>\n",
              "      <td>1</td>\n",
              "      <td>1288685640</td>\n",
              "      <td>[{'id': 25, 'name': 'OK', 'count': 111}, {'id'...</td>\n",
              "      <td>[{'id': 803, 'hero': 'https://pe.tedcdn.com/im...</td>\n",
              "      <td>Voting system designer</td>\n",
              "      <td>['culture', 'democracy', 'design', 'global iss...</td>\n",
              "      <td>E-voting without fraud</td>\n",
              "      <td>https://www.ted.com/talks/david_bismark_e_voti...</td>\n",
              "      <td>543551</td>\n",
              "      <td>0.001534</td>\n",
              "      <td>651.739808</td>\n",
              "    </tr>\n",
              "    <tr>\n",
              "      <th>96</th>\n",
              "      <td>6404</td>\n",
              "      <td>Richard Dawkins urges all atheists to openly s...</td>\n",
              "      <td>1750</td>\n",
              "      <td>TED2002</td>\n",
              "      <td>1012608000</td>\n",
              "      <td>42</td>\n",
              "      <td>Richard Dawkins</td>\n",
              "      <td>Richard Dawkins: Militant atheism</td>\n",
              "      <td>1</td>\n",
              "      <td>1176689220</td>\n",
              "      <td>[{'id': 3, 'name': 'Courageous', 'count': 3236...</td>\n",
              "      <td>[{'id': 86, 'hero': 'https://pe.tedcdn.com/ima...</td>\n",
              "      <td>Evolutionary biologist</td>\n",
              "      <td>['God', 'atheism', 'culture', 'religion', 'sci...</td>\n",
              "      <td>Militant atheism</td>\n",
              "      <td>https://www.ted.com/talks/richard_dawkins_on_m...</td>\n",
              "      <td>4374792</td>\n",
              "      <td>0.001464</td>\n",
              "      <td>683.134291</td>\n",
              "    </tr>\n",
              "    <tr>\n",
              "      <th>694</th>\n",
              "      <td>1502</td>\n",
              "      <td>Filmmaker Sharmeen Obaid-Chinoy takes on a ter...</td>\n",
              "      <td>489</td>\n",
              "      <td>TED2010</td>\n",
              "      <td>1265760000</td>\n",
              "      <td>32</td>\n",
              "      <td>Sharmeen Obaid-Chinoy</td>\n",
              "      <td>Sharmeen Obaid-Chinoy: Inside a school for sui...</td>\n",
              "      <td>1</td>\n",
              "      <td>1274865960</td>\n",
              "      <td>[{'id': 23, 'name': 'Jaw-dropping', 'count': 3...</td>\n",
              "      <td>[{'id': 171, 'hero': 'https://pe.tedcdn.com/im...</td>\n",
              "      <td>Filmmaker</td>\n",
              "      <td>['TED Fellows', 'children', 'culture', 'film',...</td>\n",
              "      <td>Inside a school for suicide bombers</td>\n",
              "      <td>https://www.ted.com/talks/sharmeen_obaid_chino...</td>\n",
              "      <td>1057238</td>\n",
              "      <td>0.001421</td>\n",
              "      <td>703.886818</td>\n",
              "    </tr>\n",
              "    <tr>\n",
              "      <th>954</th>\n",
              "      <td>2492</td>\n",
              "      <td>Janet Echelman found her true voice as an arti...</td>\n",
              "      <td>566</td>\n",
              "      <td>TED2011</td>\n",
              "      <td>1299110400</td>\n",
              "      <td>35</td>\n",
              "      <td>Janet Echelman</td>\n",
              "      <td>Janet Echelman: Taking imagination seriously</td>\n",
              "      <td>1</td>\n",
              "      <td>1307489760</td>\n",
              "      <td>[{'id': 23, 'name': 'Jaw-dropping', 'count': 3...</td>\n",
              "      <td>[{'id': 453, 'hero': 'https://pe.tedcdn.com/im...</td>\n",
              "      <td>Artist</td>\n",
              "      <td>['art', 'cities', 'culture', 'data', 'design',...</td>\n",
              "      <td>Taking imagination seriously</td>\n",
              "      <td>https://www.ted.com/talks/janet_echelman</td>\n",
              "      <td>1832930</td>\n",
              "      <td>0.001360</td>\n",
              "      <td>735.525682</td>\n",
              "    </tr>\n",
              "  </tbody>\n",
              "</table>\n",
              "</div>"
            ],
            "text/plain": [
              "     comments  ... views_per_comment\n",
              "744       649  ...        450.531587\n",
              "803       834  ...        651.739808\n",
              "96       6404  ...        683.134291\n",
              "694      1502  ...        703.886818\n",
              "954      2492  ...        735.525682\n",
              "\n",
              "[5 rows x 19 columns]"
            ]
          },
          "metadata": {
            "tags": []
          },
          "execution_count": 20
        }
      ]
    },
    {
      "cell_type": "markdown",
      "metadata": {
        "id": "feGaD7BvbN5g"
      },
      "source": [
        "## 3. Visualize the distribution of comments"
      ]
    },
    {
      "cell_type": "code",
      "metadata": {
        "id": "aZ4TlaiAbN5h",
        "outputId": "91c6d8c2-bced-4271-9818-e1ebfa266f4f",
        "colab": {
          "base_uri": "https://localhost:8080/",
          "height": 282
        }
      },
      "source": [
        "ted.comments.plot()"
      ],
      "execution_count": 99,
      "outputs": [
        {
          "output_type": "execute_result",
          "data": {
            "text/plain": [
              "<matplotlib.axes._subplots.AxesSubplot at 0x7fe9a14519b0>"
            ]
          },
          "metadata": {
            "tags": []
          },
          "execution_count": 99
        },
        {
          "output_type": "display_data",
          "data": {
            "image/png": "[encoded data removed]",
            "text/plain": [
              "<Figure size 432x288 with 1 Axes>"
            ]
          },
          "metadata": {
            "tags": [],
            "needs_background": "light"
          }
        }
      ]
    },
    {
      "cell_type": "code",
      "metadata": {
        "id": "P5tfQyrNbN5j",
        "outputId": "ff48e974-0500-4033-c605-c4006c0d55fd",
        "colab": {
          "base_uri": "https://localhost:8080/",
          "height": 282
        }
      },
      "source": [
        "# histogram shows the frequency distribution of a single variable\n",
        "ted.comments.plot(kind='hist')"
      ],
      "execution_count": 100,
      "outputs": [
        {
          "output_type": "execute_result",
          "data": {
            "text/plain": [
              "<matplotlib.axes._subplots.AxesSubplot at 0x7fe9a140ee48>"
            ]
          },
          "metadata": {
            "tags": []
          },
          "execution_count": 100
        },
        {
          "output_type": "display_data",
          "data": {
            "image/png": "[encoded data removed]",
            "text/plain": [
              "<Figure size 432x288 with 1 Axes>"
            ]
          },
          "metadata": {
            "tags": [],
            "needs_background": "light"
          }
        }
      ]
    },
    {
      "cell_type": "code",
      "metadata": {
        "id": "L8YO_Z7ibN5l",
        "outputId": "93f2143f-53f1-4d58-ea5a-3e51ccb9f92b",
        "colab": {
          "base_uri": "https://localhost:8080/",
          "height": 282
        }
      },
      "source": [
        "ted[ted.comments < 1000].comments.plot(kind='hist')"
      ],
      "execution_count": 101,
      "outputs": [
        {
          "output_type": "execute_result",
          "data": {
            "text/plain": [
              "<matplotlib.axes._subplots.AxesSubplot at 0x7fe9a1451278>"
            ]
          },
          "metadata": {
            "tags": []
          },
          "execution_count": 101
        },
        {
          "output_type": "display_data",
          "data": {
            "image/png": "[encoded data removed]",
            "text/plain": [
              "<Figure size 432x288 with 1 Axes>"
            ]
          },
          "metadata": {
            "tags": [],
            "needs_background": "light"
          }
        }
      ]
    },
    {
      "cell_type": "code",
      "metadata": {
        "id": "CAxiJ3J4bN5m",
        "outputId": "cb2b02cc-6c5b-49c0-a5ac-a19046b46895",
        "colab": {
          "base_uri": "https://localhost:8080/",
          "height": 34
        }
      },
      "source": [
        "ted[ted.comments >= 1000].shape"
      ],
      "execution_count": 102,
      "outputs": [
        {
          "output_type": "execute_result",
          "data": {
            "text/plain": [
              "(32, 24)"
            ]
          },
          "metadata": {
            "tags": []
          },
          "execution_count": 102
        }
      ]
    },
    {
      "cell_type": "code",
      "metadata": {
        "id": "9R06kRhUbN5o",
        "outputId": "b108f0d5-0584-4d84-b1a7-91b3e96466fd",
        "colab": {
          "base_uri": "https://localhost:8080/",
          "height": 282
        }
      },
      "source": [
        "ted.query('comments < 1000').comments.plot(kind='hist')"
      ],
      "execution_count": 103,
      "outputs": [
        {
          "output_type": "execute_result",
          "data": {
            "text/plain": [
              "<matplotlib.axes._subplots.AxesSubplot at 0x7fe9a1353da0>"
            ]
          },
          "metadata": {
            "tags": []
          },
          "execution_count": 103
        },
        {
          "output_type": "display_data",
          "data": {
            "image/png": "[encoded data removed]",
            "text/plain": [
              "<Figure size 432x288 with 1 Axes>"
            ]
          },
          "metadata": {
            "tags": [],
            "needs_background": "light"
          }
        }
      ]
    },
    {
      "cell_type": "code",
      "metadata": {
        "id": "6L3JFl7WbN5s",
        "outputId": "d90697e1-07db-4848-c109-f68c61b0aaa7",
        "colab": {
          "base_uri": "https://localhost:8080/",
          "height": 282
        }
      },
      "source": [
        "ted.loc[ted.comments < 1000, 'comments'].plot(kind='hist')"
      ],
      "execution_count": 104,
      "outputs": [
        {
          "output_type": "execute_result",
          "data": {
            "text/plain": [
              "<matplotlib.axes._subplots.AxesSubplot at 0x7fe9a1384e48>"
            ]
          },
          "metadata": {
            "tags": []
          },
          "execution_count": 104
        },
        {
          "output_type": "display_data",
          "data": {
            "image/png": "[encoded data removed]",
            "text/plain": [
              "<Figure size 432x288 with 1 Axes>"
            ]
          },
          "metadata": {
            "tags": [],
            "needs_background": "light"
          }
        }
      ]
    },
    {
      "cell_type": "code",
      "metadata": {
        "id": "BdZ2q_8lbN5t",
        "outputId": "1f122f2e-ead8-4f59-a1ce-3ed18a43a874",
        "colab": {
          "base_uri": "https://localhost:8080/",
          "height": 282
        }
      },
      "source": [
        "# increase the number of bins to see more detail\n",
        "ted.loc[ted.comments < 1000, 'comments'].plot(kind='hist', bins=20)"
      ],
      "execution_count": 105,
      "outputs": [
        {
          "output_type": "execute_result",
          "data": {
            "text/plain": [
              "<matplotlib.axes._subplots.AxesSubplot at 0x7fe9a125a080>"
            ]
          },
          "metadata": {
            "tags": []
          },
          "execution_count": 105
        },
        {
          "output_type": "display_data",
          "data": {
            "image/png": "[encoded data removed]",
            "text/plain": [
              "<Figure size 432x288 with 1 Axes>"
            ]
          },
          "metadata": {
            "tags": [],
            "needs_background": "light"
          }
        }
      ]
    },
    {
      "cell_type": "code",
      "metadata": {
        "id": "TUbYoA_jbN5v",
        "outputId": "064a1497-954c-48af-c278-77b87b471b79",
        "colab": {
          "base_uri": "https://localhost:8080/",
          "height": 282
        }
      },
      "source": [
        "ted.loc[ted.comments < 1000, 'comments'].plot(kind='box')"
      ],
      "execution_count": 106,
      "outputs": [
        {
          "output_type": "execute_result",
          "data": {
            "text/plain": [
              "<matplotlib.axes._subplots.AxesSubplot at 0x7fe9a12d8be0>"
            ]
          },
          "metadata": {
            "tags": []
          },
          "execution_count": 106
        },
        {
          "output_type": "display_data",
          "data": {
            "image/png": "[encoded data removed]",
            "text/plain": [
              "<Figure size 432x288 with 1 Axes>"
            ]
          },
          "metadata": {
            "tags": [],
            "needs_background": "light"
          }
        }
      ]
    },
    {
      "cell_type": "markdown",
      "metadata": {
        "id": "oQxqsGkqbN5y"
      },
      "source": [
        "## 4. Plot the number of talks that took place each year\n",
        "\n",
        "Bonus exercise: calculate the average delay between filming and publishing"
      ]
    },
    {
      "cell_type": "code",
      "metadata": {
        "id": "A3DZroJIbN5y",
        "outputId": "5968fb09-c8ba-4865-ace6-35f94ddab4bd",
        "colab": {
          "base_uri": "https://localhost:8080/",
          "height": 204
        }
      },
      "source": [
        "ted.event.sample(10)"
      ],
      "execution_count": 29,
      "outputs": [
        {
          "output_type": "execute_result",
          "data": {
            "text/plain": [
              "1473           TED2013\n",
              "1733           TED2014\n",
              "177            TED2007\n",
              "194            TED2002\n",
              "1375      TEDxWinnipeg\n",
              "1878    TEDGlobal 2014\n",
              "1276    TEDGlobal 2012\n",
              "675            TED2010\n",
              "693            TEDxUSC\n",
              "330            TED2005\n",
              "Name: event, dtype: object"
            ]
          },
          "metadata": {
            "tags": []
          },
          "execution_count": 29
        }
      ]
    },
    {
      "cell_type": "code",
      "metadata": {
        "id": "ZtSbhknSbN50",
        "outputId": "566402db-b3a0-4c44-8eca-7b94bf10f33e",
        "colab": {
          "base_uri": "https://localhost:8080/",
          "height": 119
        }
      },
      "source": [
        "ted.film_date.head()"
      ],
      "execution_count": 30,
      "outputs": [
        {
          "output_type": "execute_result",
          "data": {
            "text/plain": [
              "0    1140825600\n",
              "1    1140825600\n",
              "2    1140739200\n",
              "3    1140912000\n",
              "4    1140566400\n",
              "Name: film_date, dtype: int64"
            ]
          },
          "metadata": {
            "tags": []
          },
          "execution_count": 30
        }
      ]
    },
    {
      "cell_type": "code",
      "metadata": {
        "id": "X9vFSAt-bN52",
        "outputId": "90a000c9-97ab-4691-a5a2-a2ee82a88eb3",
        "colab": {
          "base_uri": "https://localhost:8080/",
          "height": 119
        }
      },
      "source": [
        "pd.to_datetime(ted.film_date).head()"
      ],
      "execution_count": 31,
      "outputs": [
        {
          "output_type": "execute_result",
          "data": {
            "text/plain": [
              "0   1970-01-01 00:00:01.140825600\n",
              "1   1970-01-01 00:00:01.140825600\n",
              "2   1970-01-01 00:00:01.140739200\n",
              "3   1970-01-01 00:00:01.140912000\n",
              "4   1970-01-01 00:00:01.140566400\n",
              "Name: film_date, dtype: datetime64[ns]"
            ]
          },
          "metadata": {
            "tags": []
          },
          "execution_count": 31
        }
      ]
    },
    {
      "cell_type": "code",
      "metadata": {
        "id": "RBQ2mI5LbN54",
        "outputId": "6937eb7a-410a-4282-b7eb-76612cfec7bc",
        "colab": {
          "base_uri": "https://localhost:8080/",
          "height": 119
        }
      },
      "source": [
        "pd.to_datetime(ted.film_date, unit='s').head()"
      ],
      "execution_count": 32,
      "outputs": [
        {
          "output_type": "execute_result",
          "data": {
            "text/plain": [
              "0   2006-02-25\n",
              "1   2006-02-25\n",
              "2   2006-02-24\n",
              "3   2006-02-26\n",
              "4   2006-02-22\n",
              "Name: film_date, dtype: datetime64[ns]"
            ]
          },
          "metadata": {
            "tags": []
          },
          "execution_count": 32
        }
      ]
    },
    {
      "cell_type": "code",
      "metadata": {
        "id": "RshUJ1VrbN57"
      },
      "source": [
        "ted['film_datetime'] = pd.to_datetime(ted.film_date, unit='s')"
      ],
      "execution_count": 33,
      "outputs": []
    },
    {
      "cell_type": "code",
      "metadata": {
        "scrolled": false,
        "id": "0opPzZFUbN59",
        "outputId": "366c9099-4385-433d-8bf8-6e2d9bb6eecc",
        "colab": {
          "base_uri": "https://localhost:8080/",
          "height": 204
        }
      },
      "source": [
        "ted[['event', 'film_datetime']].sample(5)"
      ],
      "execution_count": 34,
      "outputs": [
        {
          "output_type": "execute_result",
          "data": {
            "text/html": [
              "<div>\n",
              "<style scoped>\n",
              "    .dataframe tbody tr th:only-of-type {\n",
              "        vertical-align: middle;\n",
              "    }\n",
              "\n",
              "    .dataframe tbody tr th {\n",
              "        vertical-align: top;\n",
              "    }\n",
              "\n",
              "    .dataframe thead th {\n",
              "        text-align: right;\n",
              "    }\n",
              "</style>\n",
              "<table border=\"1\" class=\"dataframe\">\n",
              "  <thead>\n",
              "    <tr style=\"text-align: right;\">\n",
              "      <th></th>\n",
              "      <th>event</th>\n",
              "      <th>film_datetime</th>\n",
              "    </tr>\n",
              "  </thead>\n",
              "  <tbody>\n",
              "    <tr>\n",
              "      <th>602</th>\n",
              "      <td>TEDMED 2009</td>\n",
              "      <td>2009-10-25</td>\n",
              "    </tr>\n",
              "    <tr>\n",
              "      <th>1891</th>\n",
              "      <td>TED@BCG Berlin</td>\n",
              "      <td>2014-11-10</td>\n",
              "    </tr>\n",
              "    <tr>\n",
              "      <th>1380</th>\n",
              "      <td>TEDGlobal 2012</td>\n",
              "      <td>2012-06-26</td>\n",
              "    </tr>\n",
              "    <tr>\n",
              "      <th>1506</th>\n",
              "      <td>TEDSalon NY2013</td>\n",
              "      <td>2013-04-24</td>\n",
              "    </tr>\n",
              "    <tr>\n",
              "      <th>278</th>\n",
              "      <td>TED2008</td>\n",
              "      <td>2008-02-02</td>\n",
              "    </tr>\n",
              "  </tbody>\n",
              "</table>\n",
              "</div>"
            ],
            "text/plain": [
              "                event film_datetime\n",
              "602       TEDMED 2009    2009-10-25\n",
              "1891   TED@BCG Berlin    2014-11-10\n",
              "1380   TEDGlobal 2012    2012-06-26\n",
              "1506  TEDSalon NY2013    2013-04-24\n",
              "278           TED2008    2008-02-02"
            ]
          },
          "metadata": {
            "tags": []
          },
          "execution_count": 34
        }
      ]
    },
    {
      "cell_type": "code",
      "metadata": {
        "id": "JeRrG00obN5-",
        "outputId": "379c9b94-8741-4852-9a3c-f355e65111bc",
        "colab": {
          "base_uri": "https://localhost:8080/",
          "height": 374
        }
      },
      "source": [
        "ted.dtypes"
      ],
      "execution_count": 35,
      "outputs": [
        {
          "output_type": "execute_result",
          "data": {
            "text/plain": [
              "comments                       int64\n",
              "description                   object\n",
              "duration                       int64\n",
              "event                         object\n",
              "film_date                      int64\n",
              "languages                      int64\n",
              "main_speaker                  object\n",
              "name                          object\n",
              "num_speaker                    int64\n",
              "published_date                 int64\n",
              "ratings                       object\n",
              "related_talks                 object\n",
              "speaker_occupation            object\n",
              "tags                          object\n",
              "title                         object\n",
              "url                           object\n",
              "views                          int64\n",
              "comments_per_view            float64\n",
              "views_per_comment            float64\n",
              "film_datetime         datetime64[ns]\n",
              "dtype: object"
            ]
          },
          "metadata": {
            "tags": []
          },
          "execution_count": 35
        }
      ]
    },
    {
      "cell_type": "code",
      "metadata": {
        "id": "VMcp3ANwbN6A",
        "outputId": "3c3257a6-0666-4a86-8910-0ef8b2f6c549",
        "colab": {
          "base_uri": "https://localhost:8080/",
          "height": 119
        }
      },
      "source": [
        "ted.film_datetime.dt.year.head()"
      ],
      "execution_count": 36,
      "outputs": [
        {
          "output_type": "execute_result",
          "data": {
            "text/plain": [
              "0    2006\n",
              "1    2006\n",
              "2    2006\n",
              "3    2006\n",
              "4    2006\n",
              "Name: film_datetime, dtype: int64"
            ]
          },
          "metadata": {
            "tags": []
          },
          "execution_count": 36
        }
      ]
    },
    {
      "cell_type": "code",
      "metadata": {
        "id": "ApXxT_O7bN6D",
        "outputId": "61702745-75b7-4cb0-cebd-7a5367cc30dc",
        "colab": {
          "base_uri": "https://localhost:8080/",
          "height": 119
        }
      },
      "source": [
        "ted.event.str.lower().head()"
      ],
      "execution_count": 37,
      "outputs": [
        {
          "output_type": "execute_result",
          "data": {
            "text/plain": [
              "0    ted2006\n",
              "1    ted2006\n",
              "2    ted2006\n",
              "3    ted2006\n",
              "4    ted2006\n",
              "Name: event, dtype: object"
            ]
          },
          "metadata": {
            "tags": []
          },
          "execution_count": 37
        }
      ]
    },
    {
      "cell_type": "code",
      "metadata": {
        "id": "bjWjF2e-bN6H",
        "outputId": "aede7a31-4865-4cc0-f216-825b60134ec6",
        "colab": {
          "base_uri": "https://localhost:8080/",
          "height": 282
        }
      },
      "source": [
        "ted.film_datetime.dt.year.value_counts().plot()"
      ],
      "execution_count": 39,
      "outputs": [
        {
          "output_type": "execute_result",
          "data": {
            "text/plain": [
              "<matplotlib.axes._subplots.AxesSubplot at 0x7fe9a5995ba8>"
            ]
          },
          "metadata": {
            "tags": []
          },
          "execution_count": 39
        },
        {
          "output_type": "display_data",
          "data": {
            "image/png": "[encoded data removed]",
            "text/plain": [
              "<Figure size 432x288 with 1 Axes>"
            ]
          },
          "metadata": {
            "tags": [],
            "needs_background": "light"
          }
        }
      ]
    },
    {
      "cell_type": "code",
      "metadata": {
        "id": "59zwYW5ybN6J",
        "outputId": "10b5f3a7-0ee8-4dbc-80dc-a7648ba78291",
        "colab": {
          "base_uri": "https://localhost:8080/",
          "height": 282
        }
      },
      "source": [
        "ted.film_datetime.dt.year.value_counts().sort_index().plot()"
      ],
      "execution_count": 40,
      "outputs": [
        {
          "output_type": "execute_result",
          "data": {
            "text/plain": [
              "<matplotlib.axes._subplots.AxesSubplot at 0x7fe9a58f9e80>"
            ]
          },
          "metadata": {
            "tags": []
          },
          "execution_count": 40
        },
        {
          "output_type": "display_data",
          "data": {
            "image/png": "[encoded data removed]",
            "text/plain": [
              "<Figure size 432x288 with 1 Axes>"
            ]
          },
          "metadata": {
            "tags": [],
            "needs_background": "light"
          }
        }
      ]
    },
    {
      "cell_type": "code",
      "metadata": {
        "scrolled": true,
        "id": "ESoIX1bbbN6L",
        "outputId": "a23acf14-67b1-44d2-ea22-3bd9a5e55e5e",
        "colab": {
          "base_uri": "https://localhost:8080/",
          "height": 34
        }
      },
      "source": [
        "ted.film_datetime.max()"
      ],
      "execution_count": 41,
      "outputs": [
        {
          "output_type": "execute_result",
          "data": {
            "text/plain": [
              "Timestamp('2017-08-27 00:00:00')"
            ]
          },
          "metadata": {
            "tags": []
          },
          "execution_count": 41
        }
      ]
    },
    {
      "cell_type": "markdown",
      "metadata": {
        "id": "wOBUsDlKbN6O"
      },
      "source": [
        "## 5. What were the \"best\" events in TED history to attend?"
      ]
    },
    {
      "cell_type": "code",
      "metadata": {
        "id": "GKizGzVjbN6O",
        "outputId": "c6142780-828c-4e3d-f1cc-c2a5c89fa865",
        "colab": {
          "base_uri": "https://localhost:8080/",
          "height": 119
        }
      },
      "source": [
        "# count the number of talks each year\n",
        "ted.event.value_counts().head()"
      ],
      "execution_count": 107,
      "outputs": [
        {
          "output_type": "execute_result",
          "data": {
            "text/plain": [
              "TED2014    84\n",
              "TED2009    83\n",
              "TED2016    77\n",
              "TED2013    77\n",
              "TED2015    75\n",
              "Name: event, dtype: int64"
            ]
          },
          "metadata": {
            "tags": []
          },
          "execution_count": 107
        }
      ]
    },
    {
      "cell_type": "code",
      "metadata": {
        "id": "7bYkR7OGbN6Q",
        "outputId": "ff27b0ee-e10a-42a7-fe90-4b319385799c",
        "colab": {
          "base_uri": "https://localhost:8080/",
          "height": 136
        }
      },
      "source": [
        "# use views as quality of talk\n",
        "ted.groupby('event').views.mean().head()"
      ],
      "execution_count": 108,
      "outputs": [
        {
          "output_type": "execute_result",
          "data": {
            "text/plain": [
              "event\n",
              "AORN Congress                  149818.0\n",
              "Arbejdsglaede Live             971594.0\n",
              "BBC TV                         521974.0\n",
              "Bowery Poetry Club             676741.0\n",
              "Business Innovation Factory    304086.0\n",
              "Name: views, dtype: float64"
            ]
          },
          "metadata": {
            "tags": []
          },
          "execution_count": 108
        }
      ]
    },
    {
      "cell_type": "code",
      "metadata": {
        "id": "QDMbKufvbN6S",
        "outputId": "a5435d39-38c8-4b35-9a0b-45af244f1ab4",
        "colab": {
          "base_uri": "https://localhost:8080/",
          "height": 136
        }
      },
      "source": [
        "# find the largest values\n",
        "ted.groupby('event').views.mean().sort_values().tail()"
      ],
      "execution_count": 109,
      "outputs": [
        {
          "output_type": "execute_result",
          "data": {
            "text/plain": [
              "event\n",
              "TEDxNorrkoping        6569493.0\n",
              "TEDxCreativeCoast     8444981.0\n",
              "TEDxBloomington       9484259.5\n",
              "TEDxHouston          16140250.5\n",
              "TEDxPuget Sound      34309432.0\n",
              "Name: views, dtype: float64"
            ]
          },
          "metadata": {
            "tags": []
          },
          "execution_count": 109
        }
      ]
    },
    {
      "cell_type": "code",
      "metadata": {
        "id": "s8tNvVY1bN6T",
        "outputId": "4aa5539b-6f1b-4c3d-f6dd-f4c4aae1ab20",
        "colab": {
          "base_uri": "https://localhost:8080/",
          "height": 235
        }
      },
      "source": [
        "ted.groupby('event').views.agg(['count', 'mean']).sort_values('mean').tail()"
      ],
      "execution_count": 110,
      "outputs": [
        {
          "output_type": "execute_result",
          "data": {
            "text/html": [
              "<div>\n",
              "<style scoped>\n",
              "    .dataframe tbody tr th:only-of-type {\n",
              "        vertical-align: middle;\n",
              "    }\n",
              "\n",
              "    .dataframe tbody tr th {\n",
              "        vertical-align: top;\n",
              "    }\n",
              "\n",
              "    .dataframe thead th {\n",
              "        text-align: right;\n",
              "    }\n",
              "</style>\n",
              "<table border=\"1\" class=\"dataframe\">\n",
              "  <thead>\n",
              "    <tr style=\"text-align: right;\">\n",
              "      <th></th>\n",
              "      <th>count</th>\n",
              "      <th>mean</th>\n",
              "    </tr>\n",
              "    <tr>\n",
              "      <th>event</th>\n",
              "      <th></th>\n",
              "      <th></th>\n",
              "    </tr>\n",
              "  </thead>\n",
              "  <tbody>\n",
              "    <tr>\n",
              "      <th>TEDxNorrkoping</th>\n",
              "      <td>1</td>\n",
              "      <td>6569493.0</td>\n",
              "    </tr>\n",
              "    <tr>\n",
              "      <th>TEDxCreativeCoast</th>\n",
              "      <td>1</td>\n",
              "      <td>8444981.0</td>\n",
              "    </tr>\n",
              "    <tr>\n",
              "      <th>TEDxBloomington</th>\n",
              "      <td>2</td>\n",
              "      <td>9484259.5</td>\n",
              "    </tr>\n",
              "    <tr>\n",
              "      <th>TEDxHouston</th>\n",
              "      <td>2</td>\n",
              "      <td>16140250.5</td>\n",
              "    </tr>\n",
              "    <tr>\n",
              "      <th>TEDxPuget Sound</th>\n",
              "      <td>1</td>\n",
              "      <td>34309432.0</td>\n",
              "    </tr>\n",
              "  </tbody>\n",
              "</table>\n",
              "</div>"
            ],
            "text/plain": [
              "                   count        mean\n",
              "event                               \n",
              "TEDxNorrkoping         1   6569493.0\n",
              "TEDxCreativeCoast      1   8444981.0\n",
              "TEDxBloomington        2   9484259.5\n",
              "TEDxHouston            2  16140250.5\n",
              "TEDxPuget Sound        1  34309432.0"
            ]
          },
          "metadata": {
            "tags": []
          },
          "execution_count": 110
        }
      ]
    },
    {
      "cell_type": "code",
      "metadata": {
        "id": "n7mWU5DlbN6V",
        "outputId": "5d410c0d-7091-4951-e983-4f412fac41aa",
        "colab": {
          "base_uri": "https://localhost:8080/",
          "height": 235
        }
      },
      "source": [
        "# calculate the total views per event\n",
        "ted.groupby('event').views.agg(['count', 'mean', 'sum']).sort_values('sum').tail()"
      ],
      "execution_count": 111,
      "outputs": [
        {
          "output_type": "execute_result",
          "data": {
            "text/html": [
              "<div>\n",
              "<style scoped>\n",
              "    .dataframe tbody tr th:only-of-type {\n",
              "        vertical-align: middle;\n",
              "    }\n",
              "\n",
              "    .dataframe tbody tr th {\n",
              "        vertical-align: top;\n",
              "    }\n",
              "\n",
              "    .dataframe thead th {\n",
              "        text-align: right;\n",
              "    }\n",
              "</style>\n",
              "<table border=\"1\" class=\"dataframe\">\n",
              "  <thead>\n",
              "    <tr style=\"text-align: right;\">\n",
              "      <th></th>\n",
              "      <th>count</th>\n",
              "      <th>mean</th>\n",
              "      <th>sum</th>\n",
              "    </tr>\n",
              "    <tr>\n",
              "      <th>event</th>\n",
              "      <th></th>\n",
              "      <th></th>\n",
              "      <th></th>\n",
              "    </tr>\n",
              "  </thead>\n",
              "  <tbody>\n",
              "    <tr>\n",
              "      <th>TED2006</th>\n",
              "      <td>45</td>\n",
              "      <td>3.274345e+06</td>\n",
              "      <td>147345533</td>\n",
              "    </tr>\n",
              "    <tr>\n",
              "      <th>TED2015</th>\n",
              "      <td>75</td>\n",
              "      <td>2.011017e+06</td>\n",
              "      <td>150826305</td>\n",
              "    </tr>\n",
              "    <tr>\n",
              "      <th>TEDGlobal 2013</th>\n",
              "      <td>66</td>\n",
              "      <td>2.584163e+06</td>\n",
              "      <td>170554736</td>\n",
              "    </tr>\n",
              "    <tr>\n",
              "      <th>TED2014</th>\n",
              "      <td>84</td>\n",
              "      <td>2.072874e+06</td>\n",
              "      <td>174121423</td>\n",
              "    </tr>\n",
              "    <tr>\n",
              "      <th>TED2013</th>\n",
              "      <td>77</td>\n",
              "      <td>2.302700e+06</td>\n",
              "      <td>177307937</td>\n",
              "    </tr>\n",
              "  </tbody>\n",
              "</table>\n",
              "</div>"
            ],
            "text/plain": [
              "                count          mean        sum\n",
              "event                                         \n",
              "TED2006            45  3.274345e+06  147345533\n",
              "TED2015            75  2.011017e+06  150826305\n",
              "TEDGlobal 2013     66  2.584163e+06  170554736\n",
              "TED2014            84  2.072874e+06  174121423\n",
              "TED2013            77  2.302700e+06  177307937"
            ]
          },
          "metadata": {
            "tags": []
          },
          "execution_count": 111
        }
      ]
    }
  ]
}