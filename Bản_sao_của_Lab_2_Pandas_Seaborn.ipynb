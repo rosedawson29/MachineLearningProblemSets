{
  "nbformat": 4,
  "nbformat_minor": 0,
  "metadata": {
    "colab": {
      "name": "Bản sao của Lab_2_Pandas-Seaborn.ipynb",
      "provenance": []
    },
    "kernelspec": {
      "name": "python3",
      "display_name": "Python 3"
    }
  },
  "cells": [
    {
      "cell_type": "markdown",
      "metadata": {
        "id": "nB9SkJ8AdMVF",
        "colab_type": "text"
      },
      "source": [
        "![](https://i.imgur.com/0AUxkXt.png)"
      ]
    },
    {
      "cell_type": "markdown",
      "metadata": {
        "id": "Mhi70e4CdNf4",
        "colab_type": "text"
      },
      "source": [
        "# Lab 2 - Pandas & Seaborn"
      ]
    },
    {
      "cell_type": "markdown",
      "metadata": {
        "id": "NdjCl3H3dWbX",
        "colab_type": "text"
      },
      "source": [
        "## Import libraries"
      ]
    },
    {
      "cell_type": "code",
      "metadata": {
        "id": "mlRxipHtc3Bh",
        "colab_type": "code",
        "colab": {}
      },
      "source": [
        "import pandas as pd\n",
        "import seaborn as sns"
      ],
      "execution_count": 54,
      "outputs": []
    },
    {
      "cell_type": "markdown",
      "metadata": {
        "id": "fdAwfjMIeW3k",
        "colab_type": "text"
      },
      "source": [
        "## Import data\n",
        "\n",
        "In this Lab we will use a dataset from seaborn library. The dataset contains tips data from different customers females and males, smokers and non smokers, from days, dinner or lunch and from different table size."
      ]
    },
    {
      "cell_type": "code",
      "metadata": {
        "id": "QArJ6Nt4ech-",
        "colab_type": "code",
        "colab": {}
      },
      "source": [
        "# Run this code\n",
        "tips = sns.load_dataset('tips')"
      ],
      "execution_count": 64,
      "outputs": []
    },
    {
      "cell_type": "markdown",
      "metadata": {
        "id": "9Kt_GDz6e2K4",
        "colab_type": "text"
      },
      "source": [
        "### Overview\n",
        "\n",
        "**Show the first 3 rows of the data**"
      ]
    },
    {
      "cell_type": "code",
      "metadata": {
        "id": "oW0zZRWKezAK",
        "colab_type": "code",
        "colab": {
          "base_uri": "https://localhost:8080/",
          "height": 142
        },
        "outputId": "2bd3b460-85fd-4f59-f361-c4beb0b49b7a"
      },
      "source": [
        "tips.head(3)"
      ],
      "execution_count": null,
      "outputs": [
        {
          "output_type": "execute_result",
          "data": {
            "text/html": [
              "<div>\n",
              "<style scoped>\n",
              "    .dataframe tbody tr th:only-of-type {\n",
              "        vertical-align: middle;\n",
              "    }\n",
              "\n",
              "    .dataframe tbody tr th {\n",
              "        vertical-align: top;\n",
              "    }\n",
              "\n",
              "    .dataframe thead th {\n",
              "        text-align: right;\n",
              "    }\n",
              "</style>\n",
              "<table border=\"1\" class=\"dataframe\">\n",
              "  <thead>\n",
              "    <tr style=\"text-align: right;\">\n",
              "      <th></th>\n",
              "      <th>total_bill</th>\n",
              "      <th>tip</th>\n",
              "      <th>sex</th>\n",
              "      <th>smoker</th>\n",
              "      <th>day</th>\n",
              "      <th>time</th>\n",
              "      <th>size</th>\n",
              "    </tr>\n",
              "  </thead>\n",
              "  <tbody>\n",
              "    <tr>\n",
              "      <th>0</th>\n",
              "      <td>16.99</td>\n",
              "      <td>1.01</td>\n",
              "      <td>Female</td>\n",
              "      <td>No</td>\n",
              "      <td>Sun</td>\n",
              "      <td>Dinner</td>\n",
              "      <td>2</td>\n",
              "    </tr>\n",
              "    <tr>\n",
              "      <th>1</th>\n",
              "      <td>10.34</td>\n",
              "      <td>1.66</td>\n",
              "      <td>Male</td>\n",
              "      <td>No</td>\n",
              "      <td>Sun</td>\n",
              "      <td>Dinner</td>\n",
              "      <td>3</td>\n",
              "    </tr>\n",
              "    <tr>\n",
              "      <th>2</th>\n",
              "      <td>21.01</td>\n",
              "      <td>3.50</td>\n",
              "      <td>Male</td>\n",
              "      <td>No</td>\n",
              "      <td>Sun</td>\n",
              "      <td>Dinner</td>\n",
              "      <td>3</td>\n",
              "    </tr>\n",
              "  </tbody>\n",
              "</table>\n",
              "</div>"
            ],
            "text/plain": [
              "   total_bill   tip     sex smoker  day    time  size\n",
              "0       16.99  1.01  Female     No  Sun  Dinner     2\n",
              "1       10.34  1.66    Male     No  Sun  Dinner     3\n",
              "2       21.01  3.50    Male     No  Sun  Dinner     3"
            ]
          },
          "metadata": {
            "tags": []
          },
          "execution_count": 3
        }
      ]
    },
    {
      "cell_type": "markdown",
      "metadata": {
        "id": "KELAOLL2fFeW",
        "colab_type": "text"
      },
      "source": [
        "### Show the last 2 rows of the data"
      ]
    },
    {
      "cell_type": "code",
      "metadata": {
        "id": "NDmmOi7xfJhA",
        "colab_type": "code",
        "colab": {
          "base_uri": "https://localhost:8080/",
          "height": 111
        },
        "outputId": "730da38b-6f21-4689-cb37-d9b0a38617c4"
      },
      "source": [
        "tips.tail(2)"
      ],
      "execution_count": null,
      "outputs": [
        {
          "output_type": "execute_result",
          "data": {
            "text/html": [
              "<div>\n",
              "<style scoped>\n",
              "    .dataframe tbody tr th:only-of-type {\n",
              "        vertical-align: middle;\n",
              "    }\n",
              "\n",
              "    .dataframe tbody tr th {\n",
              "        vertical-align: top;\n",
              "    }\n",
              "\n",
              "    .dataframe thead th {\n",
              "        text-align: right;\n",
              "    }\n",
              "</style>\n",
              "<table border=\"1\" class=\"dataframe\">\n",
              "  <thead>\n",
              "    <tr style=\"text-align: right;\">\n",
              "      <th></th>\n",
              "      <th>total_bill</th>\n",
              "      <th>tip</th>\n",
              "      <th>sex</th>\n",
              "      <th>smoker</th>\n",
              "      <th>day</th>\n",
              "      <th>time</th>\n",
              "      <th>size</th>\n",
              "    </tr>\n",
              "  </thead>\n",
              "  <tbody>\n",
              "    <tr>\n",
              "      <th>242</th>\n",
              "      <td>17.82</td>\n",
              "      <td>1.75</td>\n",
              "      <td>Male</td>\n",
              "      <td>No</td>\n",
              "      <td>Sat</td>\n",
              "      <td>Dinner</td>\n",
              "      <td>2</td>\n",
              "    </tr>\n",
              "    <tr>\n",
              "      <th>243</th>\n",
              "      <td>18.78</td>\n",
              "      <td>3.00</td>\n",
              "      <td>Female</td>\n",
              "      <td>No</td>\n",
              "      <td>Thur</td>\n",
              "      <td>Dinner</td>\n",
              "      <td>2</td>\n",
              "    </tr>\n",
              "  </tbody>\n",
              "</table>\n",
              "</div>"
            ],
            "text/plain": [
              "     total_bill   tip     sex smoker   day    time  size\n",
              "242       17.82  1.75    Male     No   Sat  Dinner     2\n",
              "243       18.78  3.00  Female     No  Thur  Dinner     2"
            ]
          },
          "metadata": {
            "tags": []
          },
          "execution_count": 4
        }
      ]
    },
    {
      "cell_type": "markdown",
      "metadata": {
        "id": "pYKHwnDnfMXk",
        "colab_type": "text"
      },
      "source": [
        "### Show 4 randoms rows"
      ]
    },
    {
      "cell_type": "code",
      "metadata": {
        "id": "6hL9EeTAfQ3L",
        "colab_type": "code",
        "colab": {
          "base_uri": "https://localhost:8080/",
          "height": 173
        },
        "outputId": "ad41c2ec-f81d-4d93-ca2f-22ad0e0d4a8d"
      },
      "source": [
        "tips.sample(4)"
      ],
      "execution_count": null,
      "outputs": [
        {
          "output_type": "execute_result",
          "data": {
            "text/html": [
              "<div>\n",
              "<style scoped>\n",
              "    .dataframe tbody tr th:only-of-type {\n",
              "        vertical-align: middle;\n",
              "    }\n",
              "\n",
              "    .dataframe tbody tr th {\n",
              "        vertical-align: top;\n",
              "    }\n",
              "\n",
              "    .dataframe thead th {\n",
              "        text-align: right;\n",
              "    }\n",
              "</style>\n",
              "<table border=\"1\" class=\"dataframe\">\n",
              "  <thead>\n",
              "    <tr style=\"text-align: right;\">\n",
              "      <th></th>\n",
              "      <th>total_bill</th>\n",
              "      <th>tip</th>\n",
              "      <th>sex</th>\n",
              "      <th>smoker</th>\n",
              "      <th>day</th>\n",
              "      <th>time</th>\n",
              "      <th>size</th>\n",
              "    </tr>\n",
              "  </thead>\n",
              "  <tbody>\n",
              "    <tr>\n",
              "      <th>42</th>\n",
              "      <td>13.94</td>\n",
              "      <td>3.06</td>\n",
              "      <td>Male</td>\n",
              "      <td>No</td>\n",
              "      <td>Sun</td>\n",
              "      <td>Dinner</td>\n",
              "      <td>2</td>\n",
              "    </tr>\n",
              "    <tr>\n",
              "      <th>226</th>\n",
              "      <td>10.09</td>\n",
              "      <td>2.00</td>\n",
              "      <td>Female</td>\n",
              "      <td>Yes</td>\n",
              "      <td>Fri</td>\n",
              "      <td>Lunch</td>\n",
              "      <td>2</td>\n",
              "    </tr>\n",
              "    <tr>\n",
              "      <th>183</th>\n",
              "      <td>23.17</td>\n",
              "      <td>6.50</td>\n",
              "      <td>Male</td>\n",
              "      <td>Yes</td>\n",
              "      <td>Sun</td>\n",
              "      <td>Dinner</td>\n",
              "      <td>4</td>\n",
              "    </tr>\n",
              "    <tr>\n",
              "      <th>122</th>\n",
              "      <td>14.26</td>\n",
              "      <td>2.50</td>\n",
              "      <td>Male</td>\n",
              "      <td>No</td>\n",
              "      <td>Thur</td>\n",
              "      <td>Lunch</td>\n",
              "      <td>2</td>\n",
              "    </tr>\n",
              "  </tbody>\n",
              "</table>\n",
              "</div>"
            ],
            "text/plain": [
              "     total_bill   tip     sex smoker   day    time  size\n",
              "42        13.94  3.06    Male     No   Sun  Dinner     2\n",
              "226       10.09  2.00  Female    Yes   Fri   Lunch     2\n",
              "183       23.17  6.50    Male    Yes   Sun  Dinner     4\n",
              "122       14.26  2.50    Male     No  Thur   Lunch     2"
            ]
          },
          "metadata": {
            "tags": []
          },
          "execution_count": 6
        }
      ]
    },
    {
      "cell_type": "markdown",
      "metadata": {
        "id": "vKwm4bp1fd9a",
        "colab_type": "text"
      },
      "source": [
        "### Print a concise summary of the data\n",
        "\n",
        "Print information about the data including the index dtype and column dtypes, non-null values and memory usage."
      ]
    },
    {
      "cell_type": "code",
      "metadata": {
        "id": "S0mcL7RLflEm",
        "colab_type": "code",
        "colab": {
          "base_uri": "https://localhost:8080/",
          "height": 255
        },
        "outputId": "2f43ed24-7d26-4b57-f3f2-1576d4ed311a"
      },
      "source": [
        "tips.info()"
      ],
      "execution_count": null,
      "outputs": [
        {
          "output_type": "stream",
          "text": [
            "<class 'pandas.core.frame.DataFrame'>\n",
            "RangeIndex: 244 entries, 0 to 243\n",
            "Data columns (total 7 columns):\n",
            " #   Column      Non-Null Count  Dtype   \n",
            "---  ------      --------------  -----   \n",
            " 0   total_bill  244 non-null    float64 \n",
            " 1   tip         244 non-null    float64 \n",
            " 2   sex         244 non-null    category\n",
            " 3   smoker      244 non-null    category\n",
            " 4   day         244 non-null    category\n",
            " 5   time        244 non-null    category\n",
            " 6   size        244 non-null    int64   \n",
            "dtypes: category(4), float64(2), int64(1)\n",
            "memory usage: 7.3 KB\n"
          ],
          "name": "stdout"
        }
      ]
    },
    {
      "cell_type": "markdown",
      "metadata": {
        "id": "GMFkZD2NgEW_",
        "colab_type": "text"
      },
      "source": [
        "### Generate descriptive statistics\n",
        "\n",
        "A descriptive statistics that summarize the central tendency, dispersion and shape of a dataset's distribution, excluding NaN values."
      ]
    },
    {
      "cell_type": "code",
      "metadata": {
        "id": "VGcw9_DogYVh",
        "colab_type": "code",
        "colab": {
          "base_uri": "https://localhost:8080/",
          "height": 297
        },
        "outputId": "d571e9a6-7d80-464d-f567-9a23d89bf58b"
      },
      "source": [
        "tips.describe()"
      ],
      "execution_count": null,
      "outputs": [
        {
          "output_type": "execute_result",
          "data": {
            "text/html": [
              "<div>\n",
              "<style scoped>\n",
              "    .dataframe tbody tr th:only-of-type {\n",
              "        vertical-align: middle;\n",
              "    }\n",
              "\n",
              "    .dataframe tbody tr th {\n",
              "        vertical-align: top;\n",
              "    }\n",
              "\n",
              "    .dataframe thead th {\n",
              "        text-align: right;\n",
              "    }\n",
              "</style>\n",
              "<table border=\"1\" class=\"dataframe\">\n",
              "  <thead>\n",
              "    <tr style=\"text-align: right;\">\n",
              "      <th></th>\n",
              "      <th>total_bill</th>\n",
              "      <th>tip</th>\n",
              "      <th>size</th>\n",
              "    </tr>\n",
              "  </thead>\n",
              "  <tbody>\n",
              "    <tr>\n",
              "      <th>count</th>\n",
              "      <td>244.000000</td>\n",
              "      <td>244.000000</td>\n",
              "      <td>244.000000</td>\n",
              "    </tr>\n",
              "    <tr>\n",
              "      <th>mean</th>\n",
              "      <td>19.785943</td>\n",
              "      <td>2.998279</td>\n",
              "      <td>2.569672</td>\n",
              "    </tr>\n",
              "    <tr>\n",
              "      <th>std</th>\n",
              "      <td>8.902412</td>\n",
              "      <td>1.383638</td>\n",
              "      <td>0.951100</td>\n",
              "    </tr>\n",
              "    <tr>\n",
              "      <th>min</th>\n",
              "      <td>3.070000</td>\n",
              "      <td>1.000000</td>\n",
              "      <td>1.000000</td>\n",
              "    </tr>\n",
              "    <tr>\n",
              "      <th>25%</th>\n",
              "      <td>13.347500</td>\n",
              "      <td>2.000000</td>\n",
              "      <td>2.000000</td>\n",
              "    </tr>\n",
              "    <tr>\n",
              "      <th>50%</th>\n",
              "      <td>17.795000</td>\n",
              "      <td>2.900000</td>\n",
              "      <td>2.000000</td>\n",
              "    </tr>\n",
              "    <tr>\n",
              "      <th>75%</th>\n",
              "      <td>24.127500</td>\n",
              "      <td>3.562500</td>\n",
              "      <td>3.000000</td>\n",
              "    </tr>\n",
              "    <tr>\n",
              "      <th>max</th>\n",
              "      <td>50.810000</td>\n",
              "      <td>10.000000</td>\n",
              "      <td>6.000000</td>\n",
              "    </tr>\n",
              "  </tbody>\n",
              "</table>\n",
              "</div>"
            ],
            "text/plain": [
              "       total_bill         tip        size\n",
              "count  244.000000  244.000000  244.000000\n",
              "mean    19.785943    2.998279    2.569672\n",
              "std      8.902412    1.383638    0.951100\n",
              "min      3.070000    1.000000    1.000000\n",
              "25%     13.347500    2.000000    2.000000\n",
              "50%     17.795000    2.900000    2.000000\n",
              "75%     24.127500    3.562500    3.000000\n",
              "max     50.810000   10.000000    6.000000"
            ]
          },
          "metadata": {
            "tags": []
          },
          "execution_count": 9
        }
      ]
    },
    {
      "cell_type": "markdown",
      "metadata": {
        "id": "fX18JXY6hUpi",
        "colab_type": "text"
      },
      "source": [
        "## EDA - Exploratory Data Analysis\n",
        "\n",
        "**What is the min/max of tip?**"
      ]
    },
    {
      "cell_type": "code",
      "metadata": {
        "id": "pPc8Vdfyg-3g",
        "colab_type": "code",
        "colab": {
          "base_uri": "https://localhost:8080/",
          "height": 68
        },
        "outputId": "921c7d59-6233-4fa9-f316-8aaa83f73482"
      },
      "source": [
        "tips['tip'].agg(['min', 'max'])"
      ],
      "execution_count": 4,
      "outputs": [
        {
          "output_type": "execute_result",
          "data": {
            "text/plain": [
              "min     1.0\n",
              "max    10.0\n",
              "Name: tip, dtype: float64"
            ]
          },
          "metadata": {
            "tags": []
          },
          "execution_count": 4
        }
      ]
    },
    {
      "cell_type": "markdown",
      "metadata": {
        "id": "k-ZzN78Rilnt",
        "colab_type": "text"
      },
      "source": [
        "**The restaurant is open on which days of the week?**\n",
        "\n",
        "*Hint: unique values of the column `day`*"
      ]
    },
    {
      "cell_type": "code",
      "metadata": {
        "id": "gSrW3rnzjTva",
        "colab_type": "code",
        "colab": {
          "base_uri": "https://localhost:8080/",
          "height": 51
        },
        "outputId": "ff5fee9b-3a0b-4022-dfbf-85e00a939cb7"
      },
      "source": [
        "tips.day.unique()"
      ],
      "execution_count": 5,
      "outputs": [
        {
          "output_type": "execute_result",
          "data": {
            "text/plain": [
              "[Sun, Sat, Thur, Fri]\n",
              "Categories (4, object): [Sun, Sat, Thur, Fri]"
            ]
          },
          "metadata": {
            "tags": []
          },
          "execution_count": 5
        }
      ]
    },
    {
      "cell_type": "markdown",
      "metadata": {
        "id": "0jftAWtQv_xW",
        "colab_type": "text"
      },
      "source": [
        "**List of unique values in column `time`**"
      ]
    },
    {
      "cell_type": "code",
      "metadata": {
        "id": "P-dxGTqBwMLA",
        "colab_type": "code",
        "colab": {
          "base_uri": "https://localhost:8080/",
          "height": 51
        },
        "outputId": "3e4a1419-1f3d-4368-a322-ed35835324f1"
      },
      "source": [
        "tips.time.unique()"
      ],
      "execution_count": 6,
      "outputs": [
        {
          "output_type": "execute_result",
          "data": {
            "text/plain": [
              "[Dinner, Lunch]\n",
              "Categories (2, object): [Dinner, Lunch]"
            ]
          },
          "metadata": {
            "tags": []
          },
          "execution_count": 6
        }
      ]
    },
    {
      "cell_type": "markdown",
      "metadata": {
        "id": "IGVtUnvSjg9b",
        "colab_type": "text"
      },
      "source": [
        "**What is the range of table size?**"
      ]
    },
    {
      "cell_type": "code",
      "metadata": {
        "id": "fTE9tQ_wjltu",
        "colab_type": "code",
        "colab": {
          "base_uri": "https://localhost:8080/",
          "height": 34
        },
        "outputId": "516a0ab2-1744-4b21-eb2d-fa52c6d6954f"
      },
      "source": [
        "tips.shape"
      ],
      "execution_count": 9,
      "outputs": [
        {
          "output_type": "execute_result",
          "data": {
            "text/plain": [
              "(244, 7)"
            ]
          },
          "metadata": {
            "tags": []
          },
          "execution_count": 9
        }
      ]
    },
    {
      "cell_type": "markdown",
      "metadata": {
        "id": "_Gx8UIMepNsp",
        "colab_type": "text"
      },
      "source": [
        "**How many man/woman paid for the dish?**\n"
      ]
    },
    {
      "cell_type": "code",
      "metadata": {
        "id": "67yMlr22pjUL",
        "colab_type": "code",
        "colab": {
          "base_uri": "https://localhost:8080/",
          "height": 68
        },
        "outputId": "77803a30-2928-44a3-fc49-c0943baf76ab"
      },
      "source": [
        "tips.sex.value_counts()"
      ],
      "execution_count": 13,
      "outputs": [
        {
          "output_type": "execute_result",
          "data": {
            "text/plain": [
              "Male      157\n",
              "Female     87\n",
              "Name: sex, dtype: int64"
            ]
          },
          "metadata": {
            "tags": []
          },
          "execution_count": 13
        }
      ]
    },
    {
      "cell_type": "markdown",
      "metadata": {
        "id": "pBVDe59QpqDM",
        "colab_type": "text"
      },
      "source": [
        "**What is the percentage of smoker table and their revenue?**"
      ]
    },
    {
      "cell_type": "code",
      "metadata": {
        "id": "qy1Q250upxwG",
        "colab_type": "code",
        "colab": {
          "base_uri": "https://localhost:8080/",
          "height": 34
        },
        "outputId": "08987fd5-c4a9-4d0f-b16d-2c8d0871c1e0"
      },
      "source": [
        "tips.smoker.value_counts(normalize=True)*100\n",
        "tips.loc[tips['smoker']=='Yes', 'total_bill'].sum()"
      ],
      "execution_count": 24,
      "outputs": [
        {
          "output_type": "execute_result",
          "data": {
            "text/plain": [
              "1930.3400000000001"
            ]
          },
          "metadata": {
            "tags": []
          },
          "execution_count": 24
        }
      ]
    },
    {
      "cell_type": "markdown",
      "metadata": {
        "id": "h1Izjo0HqI-9",
        "colab_type": "text"
      },
      "source": [
        "**List 3 tables that have the most expensive bill**"
      ]
    },
    {
      "cell_type": "code",
      "metadata": {
        "id": "TTvXeHxsqT3q",
        "colab_type": "code",
        "colab": {
          "base_uri": "https://localhost:8080/",
          "height": 85
        },
        "outputId": "105d9274-245a-4bfa-fe55-fb571269f89d"
      },
      "source": [
        "tips.total_bill.nlargest(3)"
      ],
      "execution_count": 38,
      "outputs": [
        {
          "output_type": "execute_result",
          "data": {
            "text/plain": [
              "170    50.81\n",
              "212    48.33\n",
              "59     48.27\n",
              "Name: total_bill, dtype: float64"
            ]
          },
          "metadata": {
            "tags": []
          },
          "execution_count": 38
        }
      ]
    },
    {
      "cell_type": "markdown",
      "metadata": {
        "id": "HyYXxw8Fqy-7",
        "colab_type": "text"
      },
      "source": [
        "### Group by - Example\n",
        "\n",
        "**What is the best day to work - maximum tips (sum and percents)?**"
      ]
    },
    {
      "cell_type": "code",
      "metadata": {
        "id": "mwE2LP4sqVtf",
        "colab_type": "code",
        "colab": {
          "base_uri": "https://localhost:8080/",
          "height": 204
        },
        "outputId": "7cfa6067-290e-4de3-bebd-083ec402cfb6"
      },
      "source": [
        "tips2 = tips.groupby('day').sum()\n",
        "tips2['percent'] = tips2['tip'] / tips2['total_bill'] * 100\n",
        "tips2"
      ],
      "execution_count": 39,
      "outputs": [
        {
          "output_type": "execute_result",
          "data": {
            "text/html": [
              "<div>\n",
              "<style scoped>\n",
              "    .dataframe tbody tr th:only-of-type {\n",
              "        vertical-align: middle;\n",
              "    }\n",
              "\n",
              "    .dataframe tbody tr th {\n",
              "        vertical-align: top;\n",
              "    }\n",
              "\n",
              "    .dataframe thead th {\n",
              "        text-align: right;\n",
              "    }\n",
              "</style>\n",
              "<table border=\"1\" class=\"dataframe\">\n",
              "  <thead>\n",
              "    <tr style=\"text-align: right;\">\n",
              "      <th></th>\n",
              "      <th>total_bill</th>\n",
              "      <th>tip</th>\n",
              "      <th>size</th>\n",
              "      <th>percent</th>\n",
              "    </tr>\n",
              "    <tr>\n",
              "      <th>day</th>\n",
              "      <th></th>\n",
              "      <th></th>\n",
              "      <th></th>\n",
              "      <th></th>\n",
              "    </tr>\n",
              "  </thead>\n",
              "  <tbody>\n",
              "    <tr>\n",
              "      <th>Thur</th>\n",
              "      <td>1096.33</td>\n",
              "      <td>171.83</td>\n",
              "      <td>152</td>\n",
              "      <td>15.673201</td>\n",
              "    </tr>\n",
              "    <tr>\n",
              "      <th>Fri</th>\n",
              "      <td>325.88</td>\n",
              "      <td>51.96</td>\n",
              "      <td>40</td>\n",
              "      <td>15.944519</td>\n",
              "    </tr>\n",
              "    <tr>\n",
              "      <th>Sat</th>\n",
              "      <td>1778.40</td>\n",
              "      <td>260.40</td>\n",
              "      <td>219</td>\n",
              "      <td>14.642375</td>\n",
              "    </tr>\n",
              "    <tr>\n",
              "      <th>Sun</th>\n",
              "      <td>1627.16</td>\n",
              "      <td>247.39</td>\n",
              "      <td>216</td>\n",
              "      <td>15.203791</td>\n",
              "    </tr>\n",
              "  </tbody>\n",
              "</table>\n",
              "</div>"
            ],
            "text/plain": [
              "      total_bill     tip  size    percent\n",
              "day                                      \n",
              "Thur     1096.33  171.83   152  15.673201\n",
              "Fri       325.88   51.96    40  15.944519\n",
              "Sat      1778.40  260.40   219  14.642375\n",
              "Sun      1627.16  247.39   216  15.203791"
            ]
          },
          "metadata": {
            "tags": []
          },
          "execution_count": 39
        }
      ]
    },
    {
      "cell_type": "markdown",
      "metadata": {
        "id": "_XtpGXPerFoB",
        "colab_type": "text"
      },
      "source": [
        "**Your turn: Who eats more (and tips more)? smokers or non smokers?**"
      ]
    },
    {
      "cell_type": "code",
      "metadata": {
        "id": "ttatVLMIrM1e",
        "colab_type": "code",
        "colab": {
          "base_uri": "https://localhost:8080/",
          "height": 142
        },
        "outputId": "35a7fdee-5253-4da4-adea-12a0b8522cff"
      },
      "source": [
        "x = tips.groupby('smoker').sum()\n",
        "x['bill_per_size'] = x['total_bill']/x['size']\n",
        "x['tip_per_size'] = x['tip']/x['size']\n",
        "x"
      ],
      "execution_count": 52,
      "outputs": [
        {
          "output_type": "execute_result",
          "data": {
            "text/html": [
              "<div>\n",
              "<style scoped>\n",
              "    .dataframe tbody tr th:only-of-type {\n",
              "        vertical-align: middle;\n",
              "    }\n",
              "\n",
              "    .dataframe tbody tr th {\n",
              "        vertical-align: top;\n",
              "    }\n",
              "\n",
              "    .dataframe thead th {\n",
              "        text-align: right;\n",
              "    }\n",
              "</style>\n",
              "<table border=\"1\" class=\"dataframe\">\n",
              "  <thead>\n",
              "    <tr style=\"text-align: right;\">\n",
              "      <th></th>\n",
              "      <th>total_bill</th>\n",
              "      <th>tip</th>\n",
              "      <th>size</th>\n",
              "      <th>bill_per_size</th>\n",
              "      <th>tip_per_size</th>\n",
              "    </tr>\n",
              "    <tr>\n",
              "      <th>smoker</th>\n",
              "      <th></th>\n",
              "      <th></th>\n",
              "      <th></th>\n",
              "      <th></th>\n",
              "      <th></th>\n",
              "    </tr>\n",
              "  </thead>\n",
              "  <tbody>\n",
              "    <tr>\n",
              "      <th>Yes</th>\n",
              "      <td>1930.34</td>\n",
              "      <td>279.81</td>\n",
              "      <td>224</td>\n",
              "      <td>8.617589</td>\n",
              "      <td>1.249152</td>\n",
              "    </tr>\n",
              "    <tr>\n",
              "      <th>No</th>\n",
              "      <td>2897.43</td>\n",
              "      <td>451.77</td>\n",
              "      <td>403</td>\n",
              "      <td>7.189653</td>\n",
              "      <td>1.121017</td>\n",
              "    </tr>\n",
              "  </tbody>\n",
              "</table>\n",
              "</div>"
            ],
            "text/plain": [
              "        total_bill     tip  size  bill_per_size  tip_per_size\n",
              "smoker                                                       \n",
              "Yes        1930.34  279.81   224       8.617589      1.249152\n",
              "No         2897.43  451.77   403       7.189653      1.121017"
            ]
          },
          "metadata": {
            "tags": []
          },
          "execution_count": 52
        }
      ]
    },
    {
      "cell_type": "markdown",
      "metadata": {
        "id": "NBZuVHsprnmv",
        "colab_type": "text"
      },
      "source": [
        "### Data Visualization using Seaborn\n",
        "\n",
        "**Visualize # of tables per day**\n",
        "\n",
        "*Hint: using the seaborn's function **countplot()** with `x=day` and `data=tips`*"
      ]
    },
    {
      "cell_type": "code",
      "metadata": {
        "id": "POjYBe4zsAGm",
        "colab_type": "code",
        "colab": {
          "base_uri": "https://localhost:8080/",
          "height": 296
        },
        "outputId": "7ba35d11-5afb-44a6-cefa-00ad96327c70"
      },
      "source": [
        "sns.countplot(x = \"day\", data=tips)"
      ],
      "execution_count": 67,
      "outputs": [
        {
          "output_type": "execute_result",
          "data": {
            "text/plain": [
              "<matplotlib.axes._subplots.AxesSubplot at 0x7f1d6680fa58>"
            ]
          },
          "metadata": {
            "tags": []
          },
          "execution_count": 67
        },
        {
          "output_type": "display_data",
          "data": {
            "image/png": "[encoded data removed]",
            "text/plain": [
              "<Figure size 432x288 with 1 Axes>"
            ]
          },
          "metadata": {
            "tags": [],
            "needs_background": "light"
          }
        }
      ]
    },
    {
      "cell_type": "markdown",
      "metadata": {
        "id": "yu9PNmzRvJxS",
        "colab_type": "text"
      },
      "source": [
        "**Visualize # of smoker and non-smoker tables**"
      ]
    },
    {
      "cell_type": "code",
      "metadata": {
        "id": "3yFFZxn0vO0L",
        "colab_type": "code",
        "colab": {
          "base_uri": "https://localhost:8080/",
          "height": 296
        },
        "outputId": "c96bb231-5e3e-409c-c17b-e3276bfd360d"
      },
      "source": [
        "sns.countplot(x = \"smoker\", data=tips)"
      ],
      "execution_count": 68,
      "outputs": [
        {
          "output_type": "execute_result",
          "data": {
            "text/plain": [
              "<matplotlib.axes._subplots.AxesSubplot at 0x7f1d662a3c50>"
            ]
          },
          "metadata": {
            "tags": []
          },
          "execution_count": 68
        },
        {
          "output_type": "display_data",
          "data": {
            "image/png": "[encoded data removed]",
            "text/plain": [
              "<Figure size 432x288 with 1 Axes>"
            ]
          },
          "metadata": {
            "tags": [],
            "needs_background": "light"
          }
        }
      ]
    },
    {
      "cell_type": "markdown",
      "metadata": {
        "id": "bZPzcdrqvTWm",
        "colab_type": "text"
      },
      "source": [
        "**Visualize # of male/female customers who pay**"
      ]
    },
    {
      "cell_type": "code",
      "metadata": {
        "id": "1xEJMbMsvdIR",
        "colab_type": "code",
        "colab": {
          "base_uri": "https://localhost:8080/",
          "height": 296
        },
        "outputId": "4361d0d9-9ba9-4553-b9de-cebe77391a39"
      },
      "source": [
        "sns.countplot(x = \"sex\", data=tips)"
      ],
      "execution_count": 69,
      "outputs": [
        {
          "output_type": "execute_result",
          "data": {
            "text/plain": [
              "<matplotlib.axes._subplots.AxesSubplot at 0x7f1d66285c18>"
            ]
          },
          "metadata": {
            "tags": []
          },
          "execution_count": 69
        },
        {
          "output_type": "display_data",
          "data": {
            "image/png": "[encoded data removed]",
            "text/plain": [
              "<Figure size 432x288 with 1 Axes>"
            ]
          },
          "metadata": {
            "tags": [],
            "needs_background": "light"
          }
        }
      ]
    },
    {
      "cell_type": "markdown",
      "metadata": {
        "id": "bKtSBv_rsCbI",
        "colab_type": "text"
      },
      "source": [
        "**Analyze the distribution of payments of male and female in different days**\n",
        "\n",
        "*Hint: countplot with `hue='sex'`*"
      ]
    },
    {
      "cell_type": "code",
      "metadata": {
        "id": "UoNGFMKosld-",
        "colab_type": "code",
        "colab": {
          "base_uri": "https://localhost:8080/",
          "height": 296
        },
        "outputId": "715ac5e6-be2d-489f-97c2-c71574a99814"
      },
      "source": [
        "sns.countplot(x = \"day\", data=tips, hue = 'sex')"
      ],
      "execution_count": 70,
      "outputs": [
        {
          "output_type": "execute_result",
          "data": {
            "text/plain": [
              "<matplotlib.axes._subplots.AxesSubplot at 0x7f1d6672d390>"
            ]
          },
          "metadata": {
            "tags": []
          },
          "execution_count": 70
        },
        {
          "output_type": "display_data",
          "data": {
            "image/png": "[encoded data removed]",
            "text/plain": [
              "<Figure size 432x288 with 1 Axes>"
            ]
          },
          "metadata": {
            "tags": [],
            "needs_background": "light"
          }
        }
      ]
    },
    {
      "cell_type": "markdown",
      "metadata": {
        "id": "hcehBnDcv0J0",
        "colab_type": "text"
      },
      "source": [
        "**Analyze the # of tables in different time (lunch or dinner) and days**"
      ]
    },
    {
      "cell_type": "code",
      "metadata": {
        "id": "_200tzWls4qG",
        "colab_type": "code",
        "colab": {
          "base_uri": "https://localhost:8080/",
          "height": 296
        },
        "outputId": "954bc05f-41fd-4414-b600-71a4811525fa"
      },
      "source": [
        "sns.countplot(x = \"day\", data=tips, hue = \"time\")"
      ],
      "execution_count": 71,
      "outputs": [
        {
          "output_type": "execute_result",
          "data": {
            "text/plain": [
              "<matplotlib.axes._subplots.AxesSubplot at 0x7f1d66192828>"
            ]
          },
          "metadata": {
            "tags": []
          },
          "execution_count": 71
        },
        {
          "output_type": "display_data",
          "data": {
            "image/png": "[encoded data removed]",
            "text/plain": [
              "<Figure size 432x288 with 1 Axes>"
            ]
          },
          "metadata": {
            "tags": [],
            "needs_background": "light"
          }
        }
      ]
    },
    {
      "cell_type": "markdown",
      "metadata": {
        "id": "zIiRuD1lwXIM",
        "colab_type": "text"
      },
      "source": [
        "**Example: Visualize the distribution of the total bill**\n"
      ]
    },
    {
      "cell_type": "code",
      "metadata": {
        "id": "aQV66iZquyN1",
        "colab_type": "code",
        "colab": {
          "base_uri": "https://localhost:8080/",
          "height": 297
        },
        "outputId": "a66e01f6-e7bd-4389-f77d-85c38410ac09"
      },
      "source": [
        "sns.distplot(tips['total_bill'], bins=5)"
      ],
      "execution_count": 72,
      "outputs": [
        {
          "output_type": "execute_result",
          "data": {
            "text/plain": [
              "<matplotlib.axes._subplots.AxesSubplot at 0x7f1d6617f8d0>"
            ]
          },
          "metadata": {
            "tags": []
          },
          "execution_count": 72
        },
        {
          "output_type": "display_data",
          "data": {
            "image/png": "[encoded data removed]",
            "text/plain": [
              "<Figure size 432x288 with 1 Axes>"
            ]
          },
          "metadata": {
            "tags": [],
            "needs_background": "light"
          }
        }
      ]
    },
    {
      "cell_type": "markdown",
      "metadata": {
        "id": "ShsMMKhSwsEQ",
        "colab_type": "text"
      },
      "source": [
        "**Visualize the distribution of the tip**"
      ]
    },
    {
      "cell_type": "code",
      "metadata": {
        "id": "lWF4EKDfwzeA",
        "colab_type": "code",
        "colab": {
          "base_uri": "https://localhost:8080/",
          "height": 296
        },
        "outputId": "4b805a7c-91f7-4102-b16a-a07baf892642"
      },
      "source": [
        "sns.distplot(tips['tip'], bins=5)"
      ],
      "execution_count": 73,
      "outputs": [
        {
          "output_type": "execute_result",
          "data": {
            "text/plain": [
              "<matplotlib.axes._subplots.AxesSubplot at 0x7f1d660ef0b8>"
            ]
          },
          "metadata": {
            "tags": []
          },
          "execution_count": 73
        },
        {
          "output_type": "display_data",
          "data": {
            "image/png": "[encoded data removed]",
            "text/plain": [
              "<Figure size 432x288 with 1 Axes>"
            ]
          },
          "metadata": {
            "tags": [],
            "needs_background": "light"
          }
        }
      ]
    },
    {
      "cell_type": "markdown",
      "metadata": {
        "id": "T9QjEDMbw8iG",
        "colab_type": "text"
      },
      "source": [
        "**Example: Scatter plot of tip and total bill**"
      ]
    },
    {
      "cell_type": "code",
      "metadata": {
        "id": "BlrpjaLQxCAY",
        "colab_type": "code",
        "colab": {
          "base_uri": "https://localhost:8080/",
          "height": 458
        },
        "outputId": "62b4a2ee-bd50-4442-82e4-9230de933ea6"
      },
      "source": [
        "sns.jointplot(x='tip', y='total_bill', data=tips)"
      ],
      "execution_count": 74,
      "outputs": [
        {
          "output_type": "execute_result",
          "data": {
            "text/plain": [
              "<seaborn.axisgrid.JointGrid at 0x7f1d6609ef28>"
            ]
          },
          "metadata": {
            "tags": []
          },
          "execution_count": 74
        },
        {
          "output_type": "display_data",
          "data": {
            "image/png": "[encoded data removed]",
            "text/plain": [
              "<Figure size 432x432 with 3 Axes>"
            ]
          },
          "metadata": {
            "tags": [],
            "needs_background": "light"
          }
        }
      ]
    },
    {
      "cell_type": "markdown",
      "metadata": {
        "id": "h-qLLbwYxIGL",
        "colab_type": "text"
      },
      "source": [
        "**Add one more parameter `kind='hex'` to the previous   `jointplot()` function**"
      ]
    },
    {
      "cell_type": "code",
      "metadata": {
        "id": "jctY9-d4xUhM",
        "colab_type": "code",
        "colab": {
          "base_uri": "https://localhost:8080/",
          "height": 458
        },
        "outputId": "3be941fb-0b56-405b-bdde-22b8f9348149"
      },
      "source": [
        "sns.jointplot(x='tip', y='total_bill', data=tips, kind = 'hex')"
      ],
      "execution_count": 77,
      "outputs": [
        {
          "output_type": "execute_result",
          "data": {
            "text/plain": [
              "<seaborn.axisgrid.JointGrid at 0x7f1d634f8470>"
            ]
          },
          "metadata": {
            "tags": []
          },
          "execution_count": 77
        },
        {
          "output_type": "display_data",
          "data": {
            "image/png": "[encoded data removed]",
            "text/plain": [
              "<Figure size 432x432 with 3 Axes>"
            ]
          },
          "metadata": {
            "tags": [],
            "needs_background": "light"
          }
        }
      ]
    },
    {
      "cell_type": "markdown",
      "metadata": {
        "id": "S48PZXDcxgXE",
        "colab_type": "text"
      },
      "source": [
        "**Let's try with `kind='kde'` (KDE - Kernel Density Estimation)**"
      ]
    },
    {
      "cell_type": "code",
      "metadata": {
        "id": "Tj50I_K4xwHI",
        "colab_type": "code",
        "colab": {
          "base_uri": "https://localhost:8080/",
          "height": 458
        },
        "outputId": "5b76e11f-4f55-4c57-ec79-8202974a3e2a"
      },
      "source": [
        "sns.jointplot(x='tip', y='total_bill', data=tips, kind = 'kde')"
      ],
      "execution_count": 78,
      "outputs": [
        {
          "output_type": "execute_result",
          "data": {
            "text/plain": [
              "<seaborn.axisgrid.JointGrid at 0x7f1d634a7cc0>"
            ]
          },
          "metadata": {
            "tags": []
          },
          "execution_count": 78
        },
        {
          "output_type": "display_data",
          "data": {
            "image/png": "[encoded data removed]",
            "text/plain": [
              "<Figure size 432x432 with 3 Axes>"
            ]
          },
          "metadata": {
            "tags": [],
            "needs_background": "light"
          }
        }
      ]
    },
    {
      "cell_type": "markdown",
      "metadata": {
        "id": "oXZauHzuyqFo",
        "colab_type": "text"
      },
      "source": [
        "**Analyze the relationship between `size` and `tip`**"
      ]
    },
    {
      "cell_type": "code",
      "metadata": {
        "id": "F1fg3P_by0E5",
        "colab_type": "code",
        "colab": {
          "base_uri": "https://localhost:8080/",
          "height": 386
        },
        "outputId": "bc52269d-33be-4ba3-d1a3-be31abc74cdc"
      },
      "source": [
        "sns.relplot(x='tip', y='size', data=tips, size = 'size')"
      ],
      "execution_count": 84,
      "outputs": [
        {
          "output_type": "execute_result",
          "data": {
            "text/plain": [
              "<seaborn.axisgrid.FacetGrid at 0x7f1d62ed89b0>"
            ]
          },
          "metadata": {
            "tags": []
          },
          "execution_count": 84
        },
        {
          "output_type": "display_data",
          "data": {
            "image/png": "[encoded data removed]",
            "text/plain": [
              "<Figure size 415.375x360 with 1 Axes>"
            ]
          },
          "metadata": {
            "tags": [],
            "needs_background": "light"
          }
        }
      ]
    },
    {
      "cell_type": "markdown",
      "metadata": {
        "id": "BlJRnGdOzUph",
        "colab_type": "text"
      },
      "source": [
        "**Correlation Matrix**\n",
        "\n",
        "Show the correlation matrix and comfirm the analytics you have from previous steps."
      ]
    },
    {
      "cell_type": "code",
      "metadata": {
        "id": "8N1itVCpzoZw",
        "colab_type": "code",
        "colab": {
          "base_uri": "https://localhost:8080/",
          "height": 283
        },
        "outputId": "87e58879-85a4-44d5-d17e-f8ae51968d3e"
      },
      "source": [
        "corr = tips.corr()\n",
        "sns.heatmap(corr, vmax=.3,\n",
        "            square=True, linewidths=.5, cbar_kws={\"shrink\": .5})"
      ],
      "execution_count": 88,
      "outputs": [
        {
          "output_type": "execute_result",
          "data": {
            "text/plain": [
              "<matplotlib.axes._subplots.AxesSubplot at 0x7f1d62d26ef0>"
            ]
          },
          "metadata": {
            "tags": []
          },
          "execution_count": 88
        },
        {
          "output_type": "display_data",
          "data": {
            "image/png": "[encoded data removed]",
            "text/plain": [
              "<Figure size 432x288 with 2 Axes>"
            ]
          },
          "metadata": {
            "tags": [],
            "needs_background": "light"
          }
        }
      ]
    },
    {
      "cell_type": "markdown",
      "metadata": {
        "id": "7f6HYYru6XRY",
        "colab_type": "text"
      },
      "source": [
        "**Box plot, Swarm plot and Violin plot**\n",
        "\n",
        "![](https://i.imgur.com/5Lo17qp.png)"
      ]
    },
    {
      "cell_type": "markdown",
      "metadata": {
        "id": "niLV2dVs62Ik",
        "colab_type": "text"
      },
      "source": [
        "**Implement the seaborn's function `boxplot()` with params: `x='sex'`, `y='total_bill'` and `data=tips`**"
      ]
    },
    {
      "cell_type": "code",
      "metadata": {
        "id": "C2lvNCKB6YBS",
        "colab_type": "code",
        "colab": {
          "base_uri": "https://localhost:8080/",
          "height": 296
        },
        "outputId": "38dafbad-ea35-4afd-c2af-c2cfdbe30069"
      },
      "source": [
        "sns.boxplot(x=tips[\"sex\"], y=tips[\"total_bill\"])\n"
      ],
      "execution_count": 92,
      "outputs": [
        {
          "output_type": "execute_result",
          "data": {
            "text/plain": [
              "<matplotlib.axes._subplots.AxesSubplot at 0x7f1d62cae668>"
            ]
          },
          "metadata": {
            "tags": []
          },
          "execution_count": 92
        },
        {
          "output_type": "display_data",
          "data": {
            "image/png": "[encoded data removed]",
            "text/plain": [
              "<Figure size 432x288 with 1 Axes>"
            ]
          },
          "metadata": {
            "tags": [],
            "needs_background": "light"
          }
        }
      ]
    },
    {
      "cell_type": "markdown",
      "metadata": {
        "id": "BcVs63bw7Mc2",
        "colab_type": "text"
      },
      "source": [
        "**Implement `boxplot()` with params: `x='sex'`, `y='total_bill'` and `data=tips`**"
      ]
    },
    {
      "cell_type": "code",
      "metadata": {
        "id": "wpjbuI0x7a1U",
        "colab_type": "code",
        "colab": {
          "base_uri": "https://localhost:8080/",
          "height": 296
        },
        "outputId": "3bdb556f-fe41-4ac5-c06c-1aaf48463445"
      },
      "source": [
        "sns.boxplot(x=tips[\"sex\"], y=tips[\"total_bill\"])\n"
      ],
      "execution_count": 93,
      "outputs": [
        {
          "output_type": "execute_result",
          "data": {
            "text/plain": [
              "<matplotlib.axes._subplots.AxesSubplot at 0x7f1d62de4630>"
            ]
          },
          "metadata": {
            "tags": []
          },
          "execution_count": 93
        },
        {
          "output_type": "display_data",
          "data": {
            "image/png": "[encoded data removed]",
            "text/plain": [
              "<Figure size 432x288 with 1 Axes>"
            ]
          },
          "metadata": {
            "tags": [],
            "needs_background": "light"
          }
        }
      ]
    },
    {
      "cell_type": "markdown",
      "metadata": {
        "id": "Z6FvQWcR7gFS",
        "colab_type": "text"
      },
      "source": [
        "**Add `hue='smoker'` to the previous `boxplot()`**"
      ]
    },
    {
      "cell_type": "code",
      "metadata": {
        "id": "40GWj8Uq7o5I",
        "colab_type": "code",
        "colab": {
          "base_uri": "https://localhost:8080/",
          "height": 296
        },
        "outputId": "b8cee242-3d12-4faf-dea7-34d0624b446d"
      },
      "source": [
        "sns.boxplot(x=tips[\"sex\"], y=tips[\"total_bill\"], hue = tips['smoker'])\n"
      ],
      "execution_count": 95,
      "outputs": [
        {
          "output_type": "execute_result",
          "data": {
            "text/plain": [
              "<matplotlib.axes._subplots.AxesSubplot at 0x7f1d6339eba8>"
            ]
          },
          "metadata": {
            "tags": []
          },
          "execution_count": 95
        },
        {
          "output_type": "display_data",
          "data": {
            "image/png": "[encoded data removed]",
            "text/plain": [
              "<Figure size 432x288 with 1 Axes>"
            ]
          },
          "metadata": {
            "tags": [],
            "needs_background": "light"
          }
        }
      ]
    },
    {
      "cell_type": "markdown",
      "metadata": {
        "id": "fU3kztPk7t9S",
        "colab_type": "text"
      },
      "source": [
        "**Implement `swarmplot()` with: `x='day', y='tip', hue='smoker', data=tips`**"
      ]
    },
    {
      "cell_type": "code",
      "metadata": {
        "id": "amtE0-nU74Y6",
        "colab_type": "code",
        "colab": {
          "base_uri": "https://localhost:8080/",
          "height": 296
        },
        "outputId": "4d8a36fe-e517-4bdd-a1fb-345ea0fe2438"
      },
      "source": [
        "sns.swarmplot(x=tips[\"sex\"], y=tips[\"total_bill\"], hue = tips['smoker'])"
      ],
      "execution_count": 96,
      "outputs": [
        {
          "output_type": "execute_result",
          "data": {
            "text/plain": [
              "<matplotlib.axes._subplots.AxesSubplot at 0x7f1d6339efd0>"
            ]
          },
          "metadata": {
            "tags": []
          },
          "execution_count": 96
        },
        {
          "output_type": "display_data",
          "data": {
            "image/png": "[encoded data removed]",
            "text/plain": [
              "<Figure size 432x288 with 1 Axes>"
            ]
          },
          "metadata": {
            "tags": [],
            "needs_background": "light"
          }
        }
      ]
    },
    {
      "cell_type": "markdown",
      "metadata": {
        "id": "cT6IXHgI8NtC",
        "colab_type": "text"
      },
      "source": [
        "**Implement previous chart with `violinplot()`**"
      ]
    },
    {
      "cell_type": "code",
      "metadata": {
        "id": "jtXZkxV_8QUg",
        "colab_type": "code",
        "colab": {
          "base_uri": "https://localhost:8080/",
          "height": 296
        },
        "outputId": "164b9fcf-0eac-42f0-c0ad-c717171a5db1"
      },
      "source": [
        "sns.violinplot(x=tips[\"sex\"], y=tips[\"total_bill\"], hue = tips['smoker'])"
      ],
      "execution_count": 97,
      "outputs": [
        {
          "output_type": "execute_result",
          "data": {
            "text/plain": [
              "<matplotlib.axes._subplots.AxesSubplot at 0x7f1d595b6080>"
            ]
          },
          "metadata": {
            "tags": []
          },
          "execution_count": 97
        },
        {
          "output_type": "display_data",
          "data": {
            "image/png": "[encoded data removed]",
            "text/plain": [
              "<Figure size 432x288 with 1 Axes>"
            ]
          },
          "metadata": {
            "tags": [],
            "needs_background": "light"
          }
        }
      ]
    },
    {
      "cell_type": "markdown",
      "metadata": {
        "id": "geDjBuE02C6S",
        "colab_type": "text"
      },
      "source": [
        "### Bonus"
      ]
    },
    {
      "cell_type": "markdown",
      "metadata": {
        "id": "OJjq986a37p_",
        "colab_type": "text"
      },
      "source": [
        "**Total revenue per day**"
      ]
    },
    {
      "cell_type": "code",
      "metadata": {
        "id": "FQ-YKLls1Yca",
        "colab_type": "code",
        "colab": {
          "base_uri": "https://localhost:8080/",
          "height": 313
        },
        "outputId": "7269b4d4-3586-486c-c244-6f09b4c0f57c"
      },
      "source": [
        "tips.groupby('day').sum()['total_bill'].plot(kind='bar')"
      ],
      "execution_count": null,
      "outputs": [
        {
          "output_type": "execute_result",
          "data": {
            "text/plain": [
              "<matplotlib.axes._subplots.AxesSubplot at 0x7f36b7a5bdd8>"
            ]
          },
          "metadata": {
            "tags": []
          },
          "execution_count": 19
        },
        {
          "output_type": "display_data",
          "data": {
            "image/png": "[encoded data removed]",
            "text/plain": [
              "<Figure size 432x288 with 1 Axes>"
            ]
          },
          "metadata": {
            "tags": []
          }
        }
      ]
    },
    {
      "cell_type": "markdown",
      "metadata": {
        "id": "_WVHZ4XE4u8U",
        "colab_type": "text"
      },
      "source": [
        "**Pie chart of table size in percentage**"
      ]
    },
    {
      "cell_type": "code",
      "metadata": {
        "id": "-xcx85Dv4vZm",
        "colab_type": "code",
        "colab": {
          "base_uri": "https://localhost:8080/",
          "height": 298
        },
        "outputId": "96395fa2-9fc5-4c1f-fe48-9233790eddb2"
      },
      "source": [
        "# Pie chart\n",
        "labels = []\n",
        "sizes = []\n",
        "explode = []\n",
        "\n",
        "labels = tips['size'].value_counts().index.sort_values()\n",
        "for index, size in enumerate(labels):\n",
        "    sizes.append(size)\n",
        "    if size==3:\n",
        "        explode.append(0.2)\n",
        "    else:\n",
        "        explode.append(0)\n",
        " \n",
        "f, ax1 = plt.subplots()\n",
        "ax1.pie(sizes, explode=explode, labels=labels, autopct='%1.1f%%',\n",
        "        shadow=True, startangle=90)\n",
        "# Equal aspect ratio ensures that pie is drawn as a circle\n",
        "ax1.axis('equal')  \n",
        "plt.tight_layout()\n",
        "plt.show()"
      ],
      "execution_count": null,
      "outputs": [
        {
          "output_type": "display_data",
          "data": {
            "image/png": "[encoded data removed]",
            "text/plain": [
              "<Figure size 432x288 with 1 Axes>"
            ]
          },
          "metadata": {
            "tags": []
          }
        }
      ]
    },
    {
      "cell_type": "markdown",
      "metadata": {
        "id": "t8U7mHTGz54d",
        "colab_type": "text"
      },
      "source": [
        "## Great Job!!"
      ]
    }
  ]
}