{
  "nbformat": 4,
  "nbformat_minor": 0,
  "metadata": {
    "colab": {
      "name": "Bản sao của Weekly-Project-MNIST.ipynb",
      "provenance": [],
      "collapsed_sections": []
    },
    "kernelspec": {
      "display_name": "Python 3",
      "language": "python",
      "name": "python3"
    },
    "language_info": {
      "codemirror_mode": {
        "name": "ipython",
        "version": 3
      },
      "file_extension": ".py",
      "mimetype": "text/x-python",
      "name": "python",
      "nbconvert_exporter": "python",
      "pygments_lexer": "ipython3",
      "version": "3.7.6"
    }
  },
  "cells": [
    {
      "cell_type": "markdown",
      "metadata": {
        "id": "Ps5x-gYUCf9_"
      },
      "source": [
        "# Handwritten Digits Classification"
      ]
    },
    {
      "cell_type": "markdown",
      "metadata": {
        "id": "0glR10XBCxNy"
      },
      "source": [
        "## Overview\n",
        "\n",
        "The MNIST database (Modified National Institute of Standards and Technology database) is a large database of handwritten digits that is commonly used for training various image processing systems. MNIST is like the \"Hello World\" of machine learning with which you can try out a few machine learning algorithms.\n",
        "\n",
        "![](https://upload.wikimedia.org/wikipedia/commons/2/27/MnistExamples.png)\n",
        "\n",
        "Each image is 28 pixels in height and 28 pixels in width, for a total of 784 pixels in total. Each pixel has a single pixel-value associated with it, indicating the lightness or darkness of that pixel, with higher numbers meaning lighter. This pixel-value is an integer between 0 and 255, inclusive.\n",
        "\n",
        "Visually, if we omit the \"pixel\" prefix, the pixels make up the image like this:\n",
        "```\n",
        "000 001 002 003 ... 026 027\n",
        "028 029 030 031 ... 054 055\n",
        "056 057 058 059 ... 082 083\n",
        " |   |   |   |  ...  |   |\n",
        "728 729 730 731 ... 754 755\n",
        "756 757 758 759 ... 782 783 \n",
        "```"
      ]
    },
    {
      "cell_type": "markdown",
      "metadata": {
        "id": "-3hGXfqVDRna"
      },
      "source": [
        "## Get Data"
      ]
    },
    {
      "cell_type": "code",
      "metadata": {
        "id": "4IWx_-bBEYAT"
      },
      "source": [
        "import numpy as np\n",
        "import pandas as pd\n",
        "import seaborn as sns\n",
        "import matplotlib.pyplot as plt\n",
        "%matplotlib inline\n",
        "\n",
        "import warnings\n",
        "warnings.filterwarnings('ignore')\n",
        "\n",
        "sns.set_style(\"whitegrid\")"
      ],
      "execution_count": null,
      "outputs": []
    },
    {
      "cell_type": "code",
      "metadata": {
        "id": "BNhUbXb9CSbh",
        "outputId": "26a1849d-f727-4de4-e12d-21d76b6aa7fb",
        "colab": {
          "base_uri": "https://localhost:8080/",
          "height": 85
        }
      },
      "source": [
        "from tensorflow.keras.datasets import mnist\n",
        "\n",
        "(X_train, y_train), (X_test, y_test) = mnist.load_data()\n",
        "\n",
        "print('Training data:', X_train.shape, y_train.shape)\n",
        "print('Test data:', X_test.shape, y_test.shape)"
      ],
      "execution_count": null,
      "outputs": [
        {
          "output_type": "stream",
          "text": [
            "Downloading data from https://storage.googleapis.com/tensorflow/tf-keras-datasets/mnist.npz\n",
            "11493376/11490434 [==============================] - 0s 0us/step\n",
            "Training data: (60000, 28, 28) (60000,)\n",
            "Test data: (10000, 28, 28) (10000,)\n"
          ],
          "name": "stdout"
        }
      ]
    },
    {
      "cell_type": "markdown",
      "metadata": {
        "id": "VYTtM9VlGs31"
      },
      "source": [
        "## EDA"
      ]
    },
    {
      "cell_type": "code",
      "metadata": {
        "id": "xcZURSKuDcvm"
      },
      "source": [
        "def plot_images(images, labels):\n",
        "    '''Plot images with their labels. Ten each row'''\n",
        "    plt.figure(figsize=(20, 10))\n",
        "    columns = 10\n",
        "    for i, image in enumerate(images):\n",
        "        ax = plt.subplot(len(images) / columns + 1, columns, i + 1)\n",
        "        ax.set_title(f\"{labels[i]}\", fontsize=16)\n",
        "        plt.axis('off')\n",
        "        plt.subplots_adjust(bottom=0.1)\n",
        "        plt.imshow(image, cmap='gray')\n",
        "\n",
        "def get_samples(n_samples, X, y):\n",
        "    '''Get n_samples images randomly'''\n",
        "    samples = np.random.choice(np.arange(len(y)), n_samples, replace=False)\n",
        "    return X[samples], y[samples]\n",
        "\n",
        "def get_digit(digit, n_samples, X, y):\n",
        "    '''Get n_samples images of the class digit randomly'''\n",
        "    y_digit = y[y == digit]\n",
        "    samples = np.random.choice(np.arange(len(y_digit)), n_samples, replace=False)\n",
        "    return X[y == digit][samples], y_digit[samples]"
      ],
      "execution_count": null,
      "outputs": []
    },
    {
      "cell_type": "code",
      "metadata": {
        "id": "OpMe7EMCEF01",
        "outputId": "dac48c2e-9626-490a-c905-d63e5e681e70",
        "colab": {
          "base_uri": "https://localhost:8080/",
          "height": 436
        }
      },
      "source": [
        "n_samples = 30\n",
        "# images, labels = get_samples(n_samples, X_train, y_train)\n",
        "images, labels = get_digit(1, n_samples, X_train, y_train)\n",
        "plot_images(images, labels)"
      ],
      "execution_count": null,
      "outputs": [
        {
          "output_type": "display_data",
          "data": {
            "image/png": "[encoded data removed]",
            "text/plain": [
              "<Figure size 1440x720 with 30 Axes>"
            ]
          },
          "metadata": {
            "tags": [],
            "needs_background": "light"
          }
        }
      ]
    },
    {
      "cell_type": "markdown",
      "metadata": {
        "id": "7Ld_PUJxrzN1"
      },
      "source": [
        "**Plot the barplot of number of images of each class (0 to 9)**"
      ]
    },
    {
      "cell_type": "code",
      "metadata": {
        "id": "xjVYEat8EJTd",
        "outputId": "de596620-fc55-41ec-b4f3-8517fc71766d",
        "colab": {
          "base_uri": "https://localhost:8080/",
          "height": 282
        }
      },
      "source": [
        "# Your code here\n",
        "sns.countplot(y_test)"
      ],
      "execution_count": null,
      "outputs": [
        {
          "output_type": "execute_result",
          "data": {
            "text/plain": [
              "<matplotlib.axes._subplots.AxesSubplot at 0x7f0c362c8fd0>"
            ]
          },
          "metadata": {
            "tags": []
          },
          "execution_count": 7
        },
        {
          "output_type": "display_data",
          "data": {
            "image/png": "[encoded data removed]",
            "text/plain": [
              "<Figure size 432x288 with 1 Axes>"
            ]
          },
          "metadata": {
            "tags": [],
            "needs_background": "light"
          }
        }
      ]
    },
    {
      "cell_type": "markdown",
      "metadata": {
        "id": "7M_TfQZUrzOG"
      },
      "source": [
        "**Print out the range of pixel values (min, max)**"
      ]
    },
    {
      "cell_type": "code",
      "metadata": {
        "id": "d0rZBlU8FmtE",
        "outputId": "b1f7be5c-32eb-4e4b-e2b8-2d6a6e871c02",
        "colab": {
          "base_uri": "https://localhost:8080/",
          "height": 34
        }
      },
      "source": [
        "# Your code here\n",
        "print('Pixel value range:', X_train.min(), X_train.max())"
      ],
      "execution_count": null,
      "outputs": [
        {
          "output_type": "stream",
          "text": [
            "Pixel value range: 0 255\n"
          ],
          "name": "stdout"
        }
      ]
    },
    {
      "cell_type": "markdown",
      "metadata": {
        "id": "XC2sFqfcJjQ1"
      },
      "source": [
        "## Transform data for training"
      ]
    },
    {
      "cell_type": "markdown",
      "metadata": {
        "id": "6W5AWXE2rzOj"
      },
      "source": [
        "**Get the first `n_samples` images randomly from training set and test set. Then reshape them into long vectors**"
      ]
    },
    {
      "cell_type": "code",
      "metadata": {
        "id": "XF1XGXrvJlri"
      },
      "source": [
        "n_samples = 1000\n",
        "n_test_samples = 200\n",
        "# Your code here\n",
        "X_train_flat, y_train_flat = get_samples(n_samples, X_train, y_train)\n",
        "X_test_flat, y_test_flat = get_samples(n_test_samples, X_test, y_test)\n",
        "\n",
        "# Normalization\n",
        "X_train_flat = X_train_flat.reshape((n_samples, -1))/255\n",
        "X_test_flat = X_test_flat.reshape((n_test_samples, -1))/255"
      ],
      "execution_count": null,
      "outputs": []
    },
    {
      "cell_type": "code",
      "metadata": {
        "id": "66rNQGgnK1MX",
        "outputId": "123debfb-51d1-471b-f45d-8bf48b2e42da",
        "colab": {
          "base_uri": "https://localhost:8080/",
          "height": 51
        }
      },
      "source": [
        "print('Training data', X_train_flat.shape)\n",
        "print('Test data', X_test_flat.shape)"
      ],
      "execution_count": null,
      "outputs": [
        {
          "output_type": "stream",
          "text": [
            "Training data (1000, 784)\n",
            "Test data (200, 784)\n"
          ],
          "name": "stdout"
        }
      ]
    },
    {
      "cell_type": "code",
      "metadata": {
        "id": "59B4UG39o5N1"
      },
      "source": [
        "# Get all the data\n",
        "# Run it after you finish training with the 1000 samples\n",
        "# X_train_flat = X_train.reshape((-1, 784))\n",
        "# X_test_flat = X_test.reshape((-1, 784))\n",
        "# y_train_flat = y_train\n",
        "# y_test_flat = y_test\n",
        "\n",
        "# print('Training data', X_train_flat.shape)\n",
        "# print('Test data', X_test_flat.shape)\n",
        "# print('Training label', y_train_flat.shape)\n",
        "# print('Test label', y_test_flat.shape)"
      ],
      "execution_count": null,
      "outputs": []
    },
    {
      "cell_type": "markdown",
      "metadata": {
        "id": "bmxGMEGGLaJI"
      },
      "source": [
        "## Train models"
      ]
    },
    {
      "cell_type": "code",
      "metadata": {
        "id": "4tJcSPEbLRsh"
      },
      "source": [
        "from sklearn.svm import SVC\n",
        "from sklearn.metrics import confusion_matrix, accuracy_score\n",
        "from sklearn.model_selection import cross_val_score\n",
        "from sklearn.model_selection import GridSearchCV"
      ],
      "execution_count": null,
      "outputs": []
    },
    {
      "cell_type": "markdown",
      "metadata": {
        "id": "blM8JAmirzPb"
      },
      "source": [
        "**Train a SVM model**: Set up the training process and train with the small samples of data first before you take the full training dataset to train."
      ]
    },
    {
      "cell_type": "code",
      "metadata": {
        "id": "CIafedeOrzPe",
        "outputId": "8c848469-38db-453b-cc05-2366eec7c1b7",
        "colab": {
          "base_uri": "https://localhost:8080/",
          "height": 85
        }
      },
      "source": [
        "# Your code here\n",
        "clf = SVC(kernel='linear')\n",
        "clf.fit(X_train_flat, y_train_flat)"
      ],
      "execution_count": null,
      "outputs": [
        {
          "output_type": "execute_result",
          "data": {
            "text/plain": [
              "SVC(C=1.0, break_ties=False, cache_size=200, class_weight=None, coef0=0.0,\n",
              "    decision_function_shape='ovr', degree=3, gamma='scale', kernel='linear',\n",
              "    max_iter=-1, probability=False, random_state=None, shrinking=True,\n",
              "    tol=0.001, verbose=False)"
            ]
          },
          "metadata": {
            "tags": []
          },
          "execution_count": 12
        }
      ]
    },
    {
      "cell_type": "code",
      "metadata": {
        "id": "ENUgYnAIv7BA",
        "outputId": "b9063f9f-937f-483f-b8b4-e9d783dd3783",
        "colab": {
          "base_uri": "https://localhost:8080/",
          "height": 221
        }
      },
      "source": [
        "parameters = {'gamma': [0.0001, 0.001, 0.01],\n",
        "              'C':[0.01, 0.1, 1, 10, 100]}\n",
        "\n",
        "model = SVC(kernel='rbf')\n",
        "\n",
        "gridsearch_models = GridSearchCV(estimator=model,\n",
        "                                 param_grid=parameters,\n",
        "                                 scoring='accuracy',\n",
        "                                 cv=5, n_jobs=-1)\n",
        "\n",
        "gridsearch_models.fit(X_train_flat, y_train_flat)"
      ],
      "execution_count": null,
      "outputs": [
        {
          "output_type": "execute_result",
          "data": {
            "text/plain": [
              "GridSearchCV(cv=5, error_score=nan,\n",
              "             estimator=SVC(C=1.0, break_ties=False, cache_size=200,\n",
              "                           class_weight=None, coef0=0.0,\n",
              "                           decision_function_shape='ovr', degree=3,\n",
              "                           gamma='scale', kernel='rbf', max_iter=-1,\n",
              "                           probability=False, random_state=None, shrinking=True,\n",
              "                           tol=0.001, verbose=False),\n",
              "             iid='deprecated', n_jobs=-1,\n",
              "             param_grid={'C': [0.01, 0.1, 1, 10, 100],\n",
              "                         'gamma': [0.0001, 0.001, 0.01]},\n",
              "             pre_dispatch='2*n_jobs', refit=True, return_train_score=False,\n",
              "             scoring='accuracy', verbose=0)"
            ]
          },
          "metadata": {
            "tags": []
          },
          "execution_count": 13
        }
      ]
    },
    {
      "cell_type": "code",
      "metadata": {
        "id": "xakJOw-uxZZZ",
        "outputId": "bb51113d-a252-43f7-bd41-c28c163f7436",
        "colab": {
          "base_uri": "https://localhost:8080/",
          "height": 1000
        }
      },
      "source": [
        "pd.DataFrame(gridsearch_models.cv_results_)"
      ],
      "execution_count": null,
      "outputs": [
        {
          "output_type": "execute_result",
          "data": {
            "text/html": [
              "<div>\n",
              "<style scoped>\n",
              "    .dataframe tbody tr th:only-of-type {\n",
              "        vertical-align: middle;\n",
              "    }\n",
              "\n",
              "    .dataframe tbody tr th {\n",
              "        vertical-align: top;\n",
              "    }\n",
              "\n",
              "    .dataframe thead th {\n",
              "        text-align: right;\n",
              "    }\n",
              "</style>\n",
              "<table border=\"1\" class=\"dataframe\">\n",
              "  <thead>\n",
              "    <tr style=\"text-align: right;\">\n",
              "      <th></th>\n",
              "      <th>mean_fit_time</th>\n",
              "      <th>std_fit_time</th>\n",
              "      <th>mean_score_time</th>\n",
              "      <th>std_score_time</th>\n",
              "      <th>param_C</th>\n",
              "      <th>param_gamma</th>\n",
              "      <th>params</th>\n",
              "      <th>split0_test_score</th>\n",
              "      <th>split1_test_score</th>\n",
              "      <th>split2_test_score</th>\n",
              "      <th>split3_test_score</th>\n",
              "      <th>split4_test_score</th>\n",
              "      <th>mean_test_score</th>\n",
              "      <th>std_test_score</th>\n",
              "      <th>rank_test_score</th>\n",
              "    </tr>\n",
              "  </thead>\n",
              "  <tbody>\n",
              "    <tr>\n",
              "      <th>0</th>\n",
              "      <td>1.408089</td>\n",
              "      <td>0.007456</td>\n",
              "      <td>0.210397</td>\n",
              "      <td>0.005835</td>\n",
              "      <td>0.01</td>\n",
              "      <td>0.0001</td>\n",
              "      <td>{'C': 0.01, 'gamma': 0.0001}</td>\n",
              "      <td>0.130</td>\n",
              "      <td>0.130</td>\n",
              "      <td>0.130</td>\n",
              "      <td>0.135</td>\n",
              "      <td>0.130</td>\n",
              "      <td>0.131</td>\n",
              "      <td>0.002000</td>\n",
              "      <td>10</td>\n",
              "    </tr>\n",
              "    <tr>\n",
              "      <th>1</th>\n",
              "      <td>1.438852</td>\n",
              "      <td>0.014826</td>\n",
              "      <td>0.204417</td>\n",
              "      <td>0.000865</td>\n",
              "      <td>0.01</td>\n",
              "      <td>0.001</td>\n",
              "      <td>{'C': 0.01, 'gamma': 0.001}</td>\n",
              "      <td>0.130</td>\n",
              "      <td>0.130</td>\n",
              "      <td>0.130</td>\n",
              "      <td>0.135</td>\n",
              "      <td>0.130</td>\n",
              "      <td>0.131</td>\n",
              "      <td>0.002000</td>\n",
              "      <td>10</td>\n",
              "    </tr>\n",
              "    <tr>\n",
              "      <th>2</th>\n",
              "      <td>1.452151</td>\n",
              "      <td>0.024307</td>\n",
              "      <td>0.210251</td>\n",
              "      <td>0.005973</td>\n",
              "      <td>0.01</td>\n",
              "      <td>0.01</td>\n",
              "      <td>{'C': 0.01, 'gamma': 0.01}</td>\n",
              "      <td>0.130</td>\n",
              "      <td>0.130</td>\n",
              "      <td>0.130</td>\n",
              "      <td>0.135</td>\n",
              "      <td>0.130</td>\n",
              "      <td>0.131</td>\n",
              "      <td>0.002000</td>\n",
              "      <td>10</td>\n",
              "    </tr>\n",
              "    <tr>\n",
              "      <th>3</th>\n",
              "      <td>1.420570</td>\n",
              "      <td>0.008494</td>\n",
              "      <td>0.215889</td>\n",
              "      <td>0.012192</td>\n",
              "      <td>0.1</td>\n",
              "      <td>0.0001</td>\n",
              "      <td>{'C': 0.1, 'gamma': 0.0001}</td>\n",
              "      <td>0.130</td>\n",
              "      <td>0.130</td>\n",
              "      <td>0.130</td>\n",
              "      <td>0.135</td>\n",
              "      <td>0.130</td>\n",
              "      <td>0.131</td>\n",
              "      <td>0.002000</td>\n",
              "      <td>10</td>\n",
              "    </tr>\n",
              "    <tr>\n",
              "      <th>4</th>\n",
              "      <td>1.420401</td>\n",
              "      <td>0.007058</td>\n",
              "      <td>0.210699</td>\n",
              "      <td>0.005255</td>\n",
              "      <td>0.1</td>\n",
              "      <td>0.001</td>\n",
              "      <td>{'C': 0.1, 'gamma': 0.001}</td>\n",
              "      <td>0.130</td>\n",
              "      <td>0.130</td>\n",
              "      <td>0.130</td>\n",
              "      <td>0.135</td>\n",
              "      <td>0.130</td>\n",
              "      <td>0.131</td>\n",
              "      <td>0.002000</td>\n",
              "      <td>10</td>\n",
              "    </tr>\n",
              "    <tr>\n",
              "      <th>5</th>\n",
              "      <td>1.341415</td>\n",
              "      <td>0.008292</td>\n",
              "      <td>0.203296</td>\n",
              "      <td>0.001666</td>\n",
              "      <td>0.1</td>\n",
              "      <td>0.01</td>\n",
              "      <td>{'C': 0.1, 'gamma': 0.01}</td>\n",
              "      <td>0.615</td>\n",
              "      <td>0.580</td>\n",
              "      <td>0.595</td>\n",
              "      <td>0.590</td>\n",
              "      <td>0.610</td>\n",
              "      <td>0.598</td>\n",
              "      <td>0.012884</td>\n",
              "      <td>9</td>\n",
              "    </tr>\n",
              "    <tr>\n",
              "      <th>6</th>\n",
              "      <td>1.426849</td>\n",
              "      <td>0.016454</td>\n",
              "      <td>0.206064</td>\n",
              "      <td>0.001690</td>\n",
              "      <td>1</td>\n",
              "      <td>0.0001</td>\n",
              "      <td>{'C': 1, 'gamma': 0.0001}</td>\n",
              "      <td>0.130</td>\n",
              "      <td>0.130</td>\n",
              "      <td>0.130</td>\n",
              "      <td>0.135</td>\n",
              "      <td>0.130</td>\n",
              "      <td>0.131</td>\n",
              "      <td>0.002000</td>\n",
              "      <td>10</td>\n",
              "    </tr>\n",
              "    <tr>\n",
              "      <th>7</th>\n",
              "      <td>1.065136</td>\n",
              "      <td>0.007661</td>\n",
              "      <td>0.198037</td>\n",
              "      <td>0.005214</td>\n",
              "      <td>1</td>\n",
              "      <td>0.001</td>\n",
              "      <td>{'C': 1, 'gamma': 0.001}</td>\n",
              "      <td>0.810</td>\n",
              "      <td>0.790</td>\n",
              "      <td>0.770</td>\n",
              "      <td>0.785</td>\n",
              "      <td>0.800</td>\n",
              "      <td>0.791</td>\n",
              "      <td>0.013565</td>\n",
              "      <td>8</td>\n",
              "    </tr>\n",
              "    <tr>\n",
              "      <th>8</th>\n",
              "      <td>0.725009</td>\n",
              "      <td>0.010217</td>\n",
              "      <td>0.165192</td>\n",
              "      <td>0.004452</td>\n",
              "      <td>1</td>\n",
              "      <td>0.01</td>\n",
              "      <td>{'C': 1, 'gamma': 0.01}</td>\n",
              "      <td>0.910</td>\n",
              "      <td>0.905</td>\n",
              "      <td>0.890</td>\n",
              "      <td>0.860</td>\n",
              "      <td>0.900</td>\n",
              "      <td>0.893</td>\n",
              "      <td>0.017776</td>\n",
              "      <td>3</td>\n",
              "    </tr>\n",
              "    <tr>\n",
              "      <th>9</th>\n",
              "      <td>1.048367</td>\n",
              "      <td>0.002990</td>\n",
              "      <td>0.198037</td>\n",
              "      <td>0.007238</td>\n",
              "      <td>10</td>\n",
              "      <td>0.0001</td>\n",
              "      <td>{'C': 10, 'gamma': 0.0001}</td>\n",
              "      <td>0.815</td>\n",
              "      <td>0.805</td>\n",
              "      <td>0.770</td>\n",
              "      <td>0.790</td>\n",
              "      <td>0.800</td>\n",
              "      <td>0.796</td>\n",
              "      <td>0.015297</td>\n",
              "      <td>7</td>\n",
              "    </tr>\n",
              "    <tr>\n",
              "      <th>10</th>\n",
              "      <td>0.534852</td>\n",
              "      <td>0.011752</td>\n",
              "      <td>0.146861</td>\n",
              "      <td>0.001881</td>\n",
              "      <td>10</td>\n",
              "      <td>0.001</td>\n",
              "      <td>{'C': 10, 'gamma': 0.001}</td>\n",
              "      <td>0.875</td>\n",
              "      <td>0.890</td>\n",
              "      <td>0.865</td>\n",
              "      <td>0.860</td>\n",
              "      <td>0.885</td>\n",
              "      <td>0.875</td>\n",
              "      <td>0.011402</td>\n",
              "      <td>5</td>\n",
              "    </tr>\n",
              "    <tr>\n",
              "      <th>11</th>\n",
              "      <td>0.726112</td>\n",
              "      <td>0.018965</td>\n",
              "      <td>0.164467</td>\n",
              "      <td>0.006130</td>\n",
              "      <td>10</td>\n",
              "      <td>0.01</td>\n",
              "      <td>{'C': 10, 'gamma': 0.01}</td>\n",
              "      <td>0.895</td>\n",
              "      <td>0.925</td>\n",
              "      <td>0.915</td>\n",
              "      <td>0.895</td>\n",
              "      <td>0.895</td>\n",
              "      <td>0.905</td>\n",
              "      <td>0.012649</td>\n",
              "      <td>1</td>\n",
              "    </tr>\n",
              "    <tr>\n",
              "      <th>12</th>\n",
              "      <td>0.520294</td>\n",
              "      <td>0.004913</td>\n",
              "      <td>0.143874</td>\n",
              "      <td>0.001014</td>\n",
              "      <td>100</td>\n",
              "      <td>0.0001</td>\n",
              "      <td>{'C': 100, 'gamma': 0.0001}</td>\n",
              "      <td>0.880</td>\n",
              "      <td>0.880</td>\n",
              "      <td>0.870</td>\n",
              "      <td>0.855</td>\n",
              "      <td>0.875</td>\n",
              "      <td>0.872</td>\n",
              "      <td>0.009274</td>\n",
              "      <td>6</td>\n",
              "    </tr>\n",
              "    <tr>\n",
              "      <th>13</th>\n",
              "      <td>0.459755</td>\n",
              "      <td>0.006407</td>\n",
              "      <td>0.135406</td>\n",
              "      <td>0.002045</td>\n",
              "      <td>100</td>\n",
              "      <td>0.001</td>\n",
              "      <td>{'C': 100, 'gamma': 0.001}</td>\n",
              "      <td>0.875</td>\n",
              "      <td>0.905</td>\n",
              "      <td>0.885</td>\n",
              "      <td>0.885</td>\n",
              "      <td>0.875</td>\n",
              "      <td>0.885</td>\n",
              "      <td>0.010954</td>\n",
              "      <td>4</td>\n",
              "    </tr>\n",
              "    <tr>\n",
              "      <th>14</th>\n",
              "      <td>0.725390</td>\n",
              "      <td>0.019546</td>\n",
              "      <td>0.157737</td>\n",
              "      <td>0.002808</td>\n",
              "      <td>100</td>\n",
              "      <td>0.01</td>\n",
              "      <td>{'C': 100, 'gamma': 0.01}</td>\n",
              "      <td>0.895</td>\n",
              "      <td>0.925</td>\n",
              "      <td>0.915</td>\n",
              "      <td>0.895</td>\n",
              "      <td>0.895</td>\n",
              "      <td>0.905</td>\n",
              "      <td>0.012649</td>\n",
              "      <td>1</td>\n",
              "    </tr>\n",
              "  </tbody>\n",
              "</table>\n",
              "</div>"
            ],
            "text/plain": [
              "    mean_fit_time  std_fit_time  ...  std_test_score  rank_test_score\n",
              "0        1.408089      0.007456  ...        0.002000               10\n",
              "1        1.438852      0.014826  ...        0.002000               10\n",
              "2        1.452151      0.024307  ...        0.002000               10\n",
              "3        1.420570      0.008494  ...        0.002000               10\n",
              "4        1.420401      0.007058  ...        0.002000               10\n",
              "5        1.341415      0.008292  ...        0.012884                9\n",
              "6        1.426849      0.016454  ...        0.002000               10\n",
              "7        1.065136      0.007661  ...        0.013565                8\n",
              "8        0.725009      0.010217  ...        0.017776                3\n",
              "9        1.048367      0.002990  ...        0.015297                7\n",
              "10       0.534852      0.011752  ...        0.011402                5\n",
              "11       0.726112      0.018965  ...        0.012649                1\n",
              "12       0.520294      0.004913  ...        0.009274                6\n",
              "13       0.459755      0.006407  ...        0.010954                4\n",
              "14       0.725390      0.019546  ...        0.012649                1\n",
              "\n",
              "[15 rows x 15 columns]"
            ]
          },
          "metadata": {
            "tags": []
          },
          "execution_count": 14
        }
      ]
    },
    {
      "cell_type": "code",
      "metadata": {
        "id": "DtTjXahsxpgh",
        "outputId": "c49c0808-bbfc-4550-bd70-bb9eb88ea4f8",
        "colab": {
          "base_uri": "https://localhost:8080/",
          "height": 51
        }
      },
      "source": [
        "print('Best params', gridsearch_models.best_params_)\n",
        "print('Best score', gridsearch_models.best_score_)"
      ],
      "execution_count": null,
      "outputs": [
        {
          "output_type": "stream",
          "text": [
            "Best params {'C': 10, 'gamma': 0.01}\n",
            "Best score 0.905\n"
          ],
          "name": "stdout"
        }
      ]
    },
    {
      "cell_type": "code",
      "metadata": {
        "id": "yYoBam-Mx0xF"
      },
      "source": [
        "best_model = gridsearch_models.best_estimator_"
      ],
      "execution_count": null,
      "outputs": []
    },
    {
      "cell_type": "markdown",
      "metadata": {
        "id": "rupa4m2jX5rm"
      },
      "source": [
        "## Evaluation"
      ]
    },
    {
      "cell_type": "markdown",
      "metadata": {
        "id": "UBh0Et0erzPs"
      },
      "source": [
        "**Get the predictions on test data**"
      ]
    },
    {
      "cell_type": "code",
      "metadata": {
        "id": "1rwL5VCIX9qi",
        "outputId": "8f83adf9-3df0-4074-a9ee-678edb90298d",
        "colab": {
          "base_uri": "https://localhost:8080/",
          "height": 34
        }
      },
      "source": [
        "# Your code here\n",
        "predictions = best_model.predict(X_test_flat)\n",
        "print('Accuracy Score:', accuracy_score(y_test_flat, predictions))"
      ],
      "execution_count": null,
      "outputs": [
        {
          "output_type": "stream",
          "text": [
            "Accuracy Score: 0.925\n"
          ],
          "name": "stdout"
        }
      ]
    },
    {
      "cell_type": "markdown",
      "metadata": {
        "id": "su0pvdthrzP9"
      },
      "source": [
        "**Plot the confusion matrix in form of a heatmap**"
      ]
    },
    {
      "cell_type": "code",
      "metadata": {
        "id": "2RyKjfmHX7SN",
        "outputId": "2629bb45-5522-4339-fa63-1af4b4787e34",
        "colab": {
          "base_uri": "https://localhost:8080/",
          "height": 612
        }
      },
      "source": [
        "# Your code here\n",
        "plt.figure(figsize=(10,10))\n",
        "sns.heatmap(confusion_matrix(y_test_flat, predictions), cmap=\"YlGnBu\", annot=True, fmt=\"d\")\n",
        "plt.title(f'Accuracy score: {accuracy_score(y_test_flat, predictions)}', fontsize=20)\n",
        "plt.show()"
      ],
      "execution_count": null,
      "outputs": [
        {
          "output_type": "display_data",
          "data": {
            "image/png": "[encoded data removed]",
            "text/plain": [
              "<Figure size 720x720 with 2 Axes>"
            ]
          },
          "metadata": {
            "tags": [],
            "needs_background": "light"
          }
        }
      ]
    },
    {
      "cell_type": "markdown",
      "metadata": {
        "id": "mpMUVV4VrzQP"
      },
      "source": [
        "**Plot the samples that the model predicts incorrectly**"
      ]
    },
    {
      "cell_type": "code",
      "metadata": {
        "id": "-_uUXSpazDLu",
        "outputId": "85e477b8-5cbf-4bf6-f792-45c383e6219b",
        "colab": {
          "base_uri": "https://localhost:8080/",
          "height": 450
        }
      },
      "source": [
        "# Your code here\n",
        "wrong_predicted_images = X_test_flat[y_test_flat != predictions].reshape((-1, 28, 28))\n",
        "wrong_predictions = predictions[y_test_flat != predictions]\n",
        "\n",
        "plot_images(wrong_predicted_images, wrong_predictions)"
      ],
      "execution_count": null,
      "outputs": [
        {
          "output_type": "display_data",
          "data": {
            "image/png": "[encoded data removed]",
            "text/plain": [
              "<Figure size 1440x720 with 15 Axes>"
            ]
          },
          "metadata": {
            "tags": [],
            "needs_background": "light"
          }
        }
      ]
    },
    {
      "cell_type": "markdown",
      "metadata": {
        "id": "Y8O1Hh7LYNjP"
      },
      "source": [
        "## Save model"
      ]
    },
    {
      "cell_type": "code",
      "metadata": {
        "id": "C7cNiWsLYPTE"
      },
      "source": [
        "import pickle\n",
        "\n",
        "pickle.dump(clf, open('svm_mnist.pkl', 'wb'))"
      ],
      "execution_count": null,
      "outputs": []
    },
    {
      "cell_type": "markdown",
      "metadata": {
        "id": "5B-g57XIYuH0"
      },
      "source": [
        "**Re-load model for testing**"
      ]
    },
    {
      "cell_type": "code",
      "metadata": {
        "id": "WDsYcxfzYd8F",
        "outputId": "9796c506-d64d-4552-e095-471daf460713",
        "colab": {
          "base_uri": "https://localhost:8080/",
          "height": 34
        }
      },
      "source": [
        "# Your code here\n",
        "with open('svm_mnist.pkl', 'rb') as model:\n",
        "    reload_model = pickle.load(model)\n",
        "\n",
        "predictions = reload_model.predict(X_test_flat)\n",
        "print(f'Accuracy score: {accuracy_score(y_test_flat, predictions)}')"
      ],
      "execution_count": null,
      "outputs": [
        {
          "output_type": "stream",
          "text": [
            "Accuracy score: 0.895\n"
          ],
          "name": "stdout"
        }
      ]
    },
    {
      "cell_type": "markdown",
      "metadata": {
        "id": "1BVyCBz2m0Lz"
      },
      "source": [
        "## Embedding the model into a web application"
      ]
    },
    {
      "cell_type": "markdown",
      "metadata": {
        "id": "0Y2hes6WnfxV"
      },
      "source": [
        "### Project structure\n",
        "\n",
        "* Clone the files of the repository\n",
        "\n",
        "```bash\n",
        "git clone https://github.com/dhminh1024/flask_doc.git\n",
        "```\n",
        "\n",
        "* Change directory\n",
        "\n",
        "```bash\n",
        "cd flask_doc\n",
        "```\n",
        "\n",
        "* Create the following folders and files\n",
        "\n",
        "|-app/\n",
        "    |-templates/\n",
        "        |-base.html\n",
        "    |-static/\n",
        "        |-js/\n",
        "            |-index.js\n",
        "        |-css/\n",
        "            |-style.css\n",
        "        |-images/\n",
        "    |-blueprints/\n",
        "        |-__ init__.py\n",
        "    |-middlewares/\n",
        "    |-models/\n",
        "    |-main.py\n",
        "\n",
        "```bash\n",
        "mkdir app app/templates app/static app/static/js app/static/css app/static/images app/blueprints app/middlewares app/models\n",
        "touch app/main.py app/templates/base.html app/static/js/index.js app/static/css/style.css\n",
        "touch app/blueprints/__init__.py\n",
        "```\n",
        "\n",
        "* Add jquery (optional)\n",
        "\n",
        "```bash\n",
        "mv ./jquery-3.4.1.min.js app/static/js/\n",
        "```\n",
        "\n",
        "* Add Canvas (optional)\n",
        "\n",
        "```bash\n",
        "mv ./index.js app/static/js/index.js\n",
        "```\n",
        "\n",
        "* Add Coderschool logo (optional)\n",
        "\n",
        "```bash\n",
        "mv ./images/coderschool-logo.png app/static/images/\n",
        "```\n",
        "\n",
        "* Add this code in **app/main.py**\n",
        "\n",
        "```python\n",
        "from flask import Flask, render_template\n",
        "from blueprints import *\n",
        "\n",
        "app = Flask(__name__)\n",
        "app.register_blueprint(home)\n",
        "\n",
        "if __name__ == '__main__':\n",
        "  app.run(host='127.0.0.1', port=5000, debug=True)\n",
        "```\n",
        "> *Hints: most of this code can be automaticaly generated with a VSCode Extension called flask-snippets by only writting \"fapp\"*\n",
        "> ![](https://i.imgur.com/npmdsha.png=500x)"
      ]
    },
    {
      "cell_type": "markdown",
      "metadata": {
        "id": "oK1kJUy5rzRK"
      },
      "source": [
        "### Generating a new blueprint of our Flask app\n",
        "\n",
        "> A blueprint is a template for generating a \"section\" of our Flask app\n",
        "\n",
        "* In **flask_doc** directory, run this code in the **Terminal**\n",
        "\n",
        "```bash\n",
        "export NEW_BLUEPRINT=home\n",
        "mkdir app/blueprints/$NEW_BLUEPRINT\n",
        "touch app/blueprints/$NEW_BLUEPRINT/__init__.py app/blueprints/$NEW_BLUEPRINT/blueprint.py\n",
        "echo \"from .$NEW_BLUEPRINT import $NEW_BLUEPRINT\" >> app/blueprints/__init__.py\n",
        "echo \"from .blueprint import $NEW_BLUEPRINT\" > app/blueprints/$NEW_BLUEPRINT/__init__.py\n",
        "printf \\\n",
        "\"from flask import Blueprint, render_template, request\\n\\\n",
        "\\n\\\n",
        "$NEW_BLUEPRINT = Blueprint('$NEW_BLUEPRINT', __name__)\\\n",
        "\\n\\\n",
        "@$NEW_BLUEPRINT.route('/home')\\n\\\n",
        "def route_name():\\n\\\n",
        "    return render_template('$NEW_BLUEPRINT.html') \\n\\\n",
        "\" > app/blueprints/$NEW_BLUEPRINT/blueprint.py\n",
        "cp ./sample_page.html app/templates/$NEW_BLUEPRINT.html\n",
        "```\n",
        "> Hints: change 'home' to make a new blueprint (line 1 & 14)"
      ]
    },
    {
      "cell_type": "markdown",
      "metadata": {
        "id": "57kzglW3rzRN"
      },
      "source": [
        "### HTML Template\n",
        "\n",
        "* Add this code in **app/templates/base.html**\n",
        "\n",
        "```html\n",
        "<!doctype html>\n",
        "<html lang=\"en\">\n",
        "  <head>\n",
        "    <title>Title</title>\n",
        "    <!-- Required meta tags -->\n",
        "    <meta charset=\"utf-8\">\n",
        "    <meta name=\"viewport\" content=\"width=device-width, initial-scale=1, shrink-to-fit=no\">\n",
        "\n",
        "    <!-- Bootstrap CSS -->\n",
        "    <link rel=\"stylesheet\" href=\"https://stackpath.bootstrapcdn.com/bootstrap/4.3.1/css/bootstrap.min.css\" integrity=\"sha384-ggOyR0iXCbMQv3Xipma34MD+dH/1fQ784/j6cY/iJTQUOhcWr7x9JvoRxT2MZw1T\" crossorigin=\"anonymous\">\n",
        "    <!-- CSS -->\n",
        "    <link href=\"static/css/style.css\" rel=\"stylesheet\">\n",
        "</head>\n",
        "  <body class=\"text-center\">\n",
        "    {% block content%} {% endblock %} \n",
        "    \n",
        "    <script src=\"static/js/jquery-3.4.1.min.js\"></script>\n",
        "    <script src=\"static/js/index.js\"></script>\n",
        "    <!-- AJAX optional -->\n",
        "    <script type=\"text/javascript\">\n",
        "        $(\"#myButton\").click(function(){\n",
        "            $('#result').text('  Predicting...');\n",
        "            var $SCRIPT_ROOT = {{request.script_root|tojson|safe}};\n",
        "            var canvasObj = document.getElementById(\"canvas\");\n",
        "            var img = canvasObj.toDataURL('image/jpeg');\n",
        "            $.ajax({\n",
        "                type: \"POST\",\n",
        "                url: $SCRIPT_ROOT + \"/upload/\",\n",
        "                data: img,\n",
        "                success: function(data){\n",
        "                    $('#result').text('Predictions ' + data);\n",
        "                }\n",
        "            });\n",
        "        });\n",
        "    </script>\n",
        "  </body>\n",
        "</html>\n",
        "```\n",
        "\n",
        "> *Hints: most of this code can be automaticaly generated with VSCode Extensions called Bootstrap 4, Font awesome 4, Font Awesome 5 Free & Pro snippets by only writting \"b4-$\"*"
      ]
    },
    {
      "cell_type": "markdown",
      "metadata": {
        "id": "UBe_IHzKrzRP"
      },
      "source": [
        "### Run the app\n",
        "\n",
        "* Change directory\n",
        "\n",
        "```bash\n",
        "cd app\n",
        "```\n",
        "\n",
        "* Run the app\n",
        "\n",
        "```bash\n",
        "python main.py\n",
        "```\n",
        "\n",
        "Congratulation, you have just created your Flask app. Here is the link of your Flask app: http://127.0.0.1:5000/home\n",
        "\n",
        "### Html for MNIST example\n",
        "\n",
        "* Replace the code of **app/templates/home.html** by this code \n",
        "\n",
        "```html\n",
        "{% extends \"base.html\" %} {% block content %}\n",
        "<div style=\"margin-top:50px\">\n",
        "  <img class=\"mb-4\" src=\"static/images/coderschool-logo.png\" alt=\"\" />\n",
        "  <h1 class=\"h3 mb-3 font-weight-normal\">Please draw a number</h1>\n",
        "\n",
        "  <canvas id=\"canvas\" width=\"400\" height=\"400\"></canvas>\n",
        "\n",
        "  <h1 class=\"h3 mb-3 font-weight-normal\" id=\"result\">Predictions:</h1>\n",
        "\n",
        "  <button id=\"myButton\" class=\"btn  btn-primary \" type=\"submit\">\n",
        "    Predict\n",
        "  </button>\n",
        "  <button id=\"clearButton\" class=\"btn btn-success\" type=\"submit\">\n",
        "    Clear\n",
        "  </button>\n",
        "\n",
        "  <p class=\"mt-5 mb-3 text-muted\">&copy; CoderSchool</p>\n",
        "</div>\n",
        "{% endblock %}\n",
        "\n",
        "```\n",
        "\n",
        "### Python for MNIST example\n",
        "\n",
        "* In **flask_doc** directory, run this code to generate the blueprint related to upload\n",
        "\n",
        "```bash\n",
        "export NEW_BLUEPRINT=upload_api\n",
        "mkdir app/blueprints/$NEW_BLUEPRINT\n",
        "touch app/blueprints/$NEW_BLUEPRINT/__init__.py app/blueprints/$NEW_BLUEPRINT/blueprint.py\n",
        "echo \"from .$NEW_BLUEPRINT import $NEW_BLUEPRINT\" >> app/blueprints/__init__.py\n",
        "echo \"from .blueprint import $NEW_BLUEPRINT\" > app/blueprints/$NEW_BLUEPRINT/__init__.py\n",
        "printf \\\n",
        "\"from flask import Blueprint, render_template, request\\n\\\n",
        "\\n\\\n",
        "$NEW_BLUEPRINT = Blueprint('$NEW_BLUEPRINT', __name__)\\\n",
        "\\n\\\n",
        "@$NEW_BLUEPRINT.route('/upload_api')\\n\\\n",
        "def route_name():\\n\\\n",
        "    return render_template('$NEW_BLUEPRINT.html') \\n\\\n",
        "\" > app/blueprints/$NEW_BLUEPRINT/blueprint.py\n",
        "cp ./sample_page.html app/templates/$NEW_BLUEPRINT.html\n",
        "```\n",
        "\n",
        "\n",
        "* Replace the code of **app/blueprints/upload_api/blueprint.py** by this code\n",
        "\n",
        "```python\n",
        "from flask import Blueprint, render_template, request\n",
        "import re\n",
        "import base64\n",
        "import numpy as np\n",
        "import pickle\n",
        "from skimage import io, color, transform\n",
        "import matplotlib.pyplot as plt\n",
        "\n",
        " \n",
        "def parse_image(imgData):\n",
        "    img_str = re.search(b\"base64,(.*)\", imgData).group(1)\n",
        "    img_decode = base64.decodebytes(img_str)\n",
        "    with open('output.png', \"wb\") as f:\n",
        "        f.write(img_decode)\n",
        "    return img_decode\n",
        "\n",
        "def preprocess_base64(base64_decoded):\n",
        "    img = io.imread(base64_decoded, plugin='imageio')\n",
        "    img = (255 - img)/255\n",
        "    img = color.rgb2gray(img)\n",
        "    img = transform.resize(img, (28,28))\n",
        "    # Testing purpose\n",
        "    # plt.imsave('processed.jpg', img, cmap='gray')\n",
        "    img = img.reshape((1, -1))\n",
        "    return img\n",
        " \n",
        "# Load your model here\n",
        "with open('models/svm_mnist.pkl', 'rb') as model:\n",
        "    model = pickle.load(model)\n",
        " \n",
        "upload_api = Blueprint('upload_api', __name__)\n",
        " \n",
        " \n",
        "@upload_api.route('/upload/', methods=['POST'])\n",
        "def upload():\n",
        "    img_decode = parse_image(request.get_data())\n",
        "    img = preprocess_base64(img_decode)\n",
        "    prediction = model.predict(img)[0]\n",
        "    return str(prediction)\n",
        "\n",
        "```\n",
        "\n",
        "* Register the upload API in **app/main.py**:\n",
        "\n",
        "```python\n",
        "from flask import Flask, render_template\n",
        "from blueprints import *\n",
        "\n",
        "app = Flask(__name__)\n",
        "app.register_blueprint(home)\n",
        "app.register_blueprint(upload_api)\n",
        "\n",
        "if __name__ == '__main__':\n",
        "    app.run(host='127.0.0.1', port=5000, debug=True)\n",
        "```"
      ]
    },
    {
      "cell_type": "code",
      "metadata": {
        "id": "_bBy2A8nExWB"
      },
      "source": [
        ""
      ],
      "execution_count": null,
      "outputs": []
    }
  ]
}